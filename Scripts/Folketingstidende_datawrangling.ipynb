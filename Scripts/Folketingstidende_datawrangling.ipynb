{
 "cells": [
  {
   "cell_type": "code",
   "execution_count": 1,
   "id": "228dacdd",
   "metadata": {},
   "outputs": [],
   "source": [
    "import pandas as pd\n",
    "import re\n",
    "from random import randint\n",
    "import spacy\n",
    "from time import time\n",
    "from pathlib import Path\n",
    "from pathlib import *"
   ]
  },
  {
   "cell_type": "markdown",
   "id": "71ea6289",
   "metadata": {},
   "source": [
    "# Folketingstidende datawrangling"
   ]
  },
  {
   "cell_type": "markdown",
   "id": "fc27536b",
   "metadata": {},
   "source": [
    "Det følgende script er en renskrivning af et \"trial and error\" script jeg tidligere har udarbejdet. Dette script kan findes på min github:"
   ]
  },
  {
   "cell_type": "markdown",
   "id": "c76c85e0",
   "metadata": {},
   "source": [
    "### Formål\n",
    "Dette script ønsker at formatere \"folketingstidende\" på en sådan måde at der kan laves en digitalhistorisk analyse af data. Formålet med scriptet er da at \"genkende\" når en ny person begynder at tale fra folketingsets talerstol, så folektingstidende kan opdeles i folketingstaler og udtræke metadateen \"hvem der taler\" samt \"hvilket parti tilhører taleren\". Derudover skal scriptet søge at genkende når der er \"fejl\" i data som skal sorteres fra. Her er primært tale om at sortere marginer fra. Da der er tale om en \"OCR\" læsning af folketingstidende starter hver side med marginen på siden, som hvis denne ikke sorteres fra, vil indgå som en del af et folketingsmedlem eller ministers tale. "
   ]
  },
  {
   "cell_type": "markdown",
   "id": "a377f226",
   "metadata": {},
   "source": [
    "### Genkendelse af talere:"
   ]
  },
  {
   "cell_type": "markdown",
   "id": "9e92f04b",
   "metadata": {},
   "source": [
    "I det følgende vil jeg søge at benytte mig af regex til at genkende når en ny person indtager folketingsets talerstol. Til dette vil jeg udnytte hvordan folketingstidende er \"formateret\" af udgiver. Når en ny person indtager folketingets talerstol vil dette blive skrevet som \"Navn på talende folketingsmedlem (Parti som folketingsmedlem tilhører)\". Det er altså dette jeg vil søge at genkende."
   ]
  },
  {
   "cell_type": "markdown",
   "id": "c5613029",
   "metadata": {},
   "source": [
    "Jeg starter med at indlæse en del af folketingstidende som prøve."
   ]
  },
  {
   "cell_type": "code",
   "execution_count": 2,
   "id": "9dfb9fd2",
   "metadata": {},
   "outputs": [],
   "source": [
    "df = pd.read_csv('../../Folketingstidende/Hele/19901.csv',sep=';', encoding = \"latin1\")"
   ]
  },
  {
   "cell_type": "markdown",
   "id": "b804191a",
   "metadata": {},
   "source": [
    "Jeg finder ny søjlenavnene:"
   ]
  },
  {
   "cell_type": "code",
   "execution_count": 3,
   "id": "4664e1d6",
   "metadata": {},
   "outputs": [
    {
     "data": {
      "text/plain": [
       "['Unnamed: 0', 'spalte', 'TextBlock', 'TopMargin', 'indhold', 'år', 'samling']"
      ]
     },
     "execution_count": 3,
     "metadata": {},
     "output_type": "execute_result"
    }
   ],
   "source": [
    "df.columns.values.tolist()"
   ]
  },
  {
   "cell_type": "markdown",
   "id": "a85741e2",
   "metadata": {},
   "source": [
    "Det er søjlen \"indhold\" der primært har interesse."
   ]
  },
  {
   "cell_type": "code",
   "execution_count": 4,
   "id": "9ee6361f",
   "metadata": {},
   "outputs": [],
   "source": [
    "FT_data = [indhold for indhold in df[\"indhold\"]]"
   ]
  },
  {
   "cell_type": "code",
   "execution_count": 5,
   "id": "a9c797f4",
   "metadata": {},
   "outputs": [
    {
     "data": {
      "text/plain": [
       "['(1) l 2/10 90: Folketingets åbning 2',\n",
       " '1. møde',\n",
       " 'Tirsdag den 2. oktober 1990 kl. 12.00',\n",
       " 'Aldersformanden (Ninn-Hansen):',\n",
       " 'På denne første tirsdag i oktober er Folketinget trådt sammen for at indlede folketingsåret 1990-91, og det sker som bekendt i henhold til bestemmelser i grundloven herom.',\n",
       " 'Som den, der længst har været medlem af Tinget, er det min opgave og pligt at lede valget af præsidium og af tingsekretærer.',\n",
       " 'Til formand har et flertal bestående af Det Konservative Folkeparti, Venstre, Fremskridtspartiet, Det Radikale Venstre, Centrum-Demokraterne og Kristeligt Folkeparti indstillet H. P. Clausen (KF).',\n",
       " 'Over for mig foreligger der ikke andre indstillinger. Hvis ingen begærer afstemning, vil jeg betragte den her foretagne indstilling som vedtaget. (Ophold). Der er ingen, der begærer afstemning, og dermed er H. P. Clausen valgt.',\n",
       " 'Til næstformænd har Tingets fire største partier - bortset fra det parti, som formanden tilhører - udpeget følgende medlemmer:',\n",
       " 'Til første næstformand Henning Rasmussen (S), til anden næstformand Lilli Gyldenkilde (SF), til tredje næstformand Povl Brøndsted (V) og til fjerde næstformand Poulsgaard (FP).']"
      ]
     },
     "execution_count": 5,
     "metadata": {},
     "output_type": "execute_result"
    }
   ],
   "source": [
    "FT_data[0:10]"
   ]
  },
  {
   "cell_type": "markdown",
   "id": "13e002c6",
   "metadata": {},
   "source": [
    "Her viser jeg de første 10 OCR-læste afsnit i folketingstidende.\n",
    "\n",
    "Jeg vil nu søge at genkende når der er folk der taler fra folketingsets talerstol."
   ]
  },
  {
   "cell_type": "code",
   "execution_count": 6,
   "id": "ad5a15d8",
   "metadata": {},
   "outputs": [],
   "source": [
    "Prøve_FT = []\n",
    "Partier_i_folketinget = [\"(A)\", \"(SF)\", \"(S)\", \"(RV)\", \"(KF)\", \"(V)\", \"(FP)\", \"(CD)\", \"(VS)\", \"(KrF)\", \"(KRF)\"] #liste af partier\n",
    "for sentence in FT_data:\n",
    "    #if len(re.findall(\"(\\w{1,10}\\([A-Z]+\\)|\\(KrF\\))\", sentence)) > 0:\n",
    "    #if len(re.findall(\"(\\([A-Z]+\\)|\\(KrF\\))\", sentence)) > 0:\n",
    "    if len(re.findall(\"(^.{1,50} \\([A-Z]+\\)|.{1,50} \\(KrF\\))\", sentence)) > 0:\n",
    "        if len(re.findall(\"(\\([A-Z]+\\)|\\(KrF\\))\", sentence)) < 2:\n",
    "            if len(re.findall(\"Ny stedf.\", sentence)) > 0:\n",
    "                pass\n",
    "            elif len(re.findall(\"Udtræder:\", sentence)) > 0:\n",
    "                pass\n",
    "            elif len(re.findall(\"Nyt medl\", sentence)) > 0:\n",
    "                pass\n",
    "            elif len(re.findall(\" af\", sentence.lower())) > 0:\n",
    "                pass\n",
    "            elif re.findall(\"(\\([A-Z]+\\)|\\(KrF\\))\", sentence)[0] in Partier_i_folketinget:\n",
    "                Prøve_FT.append(sentence)"
   ]
  },
  {
   "cell_type": "markdown",
   "id": "3ad11266",
   "metadata": {},
   "source": [
    "Jeg kan nu undersøges hvad der genkendes:"
   ]
  },
  {
   "cell_type": "code",
   "execution_count": 7,
   "id": "06db8b0f",
   "metadata": {},
   "outputs": [],
   "source": [
    "Prøve_FT.sort(key = len, reverse = True)"
   ]
  },
  {
   "cell_type": "code",
   "execution_count": 8,
   "id": "ca4ef370",
   "metadata": {},
   "outputs": [
    {
     "data": {
      "text/plain": [
       "2624"
      ]
     },
     "execution_count": 8,
     "metadata": {},
     "output_type": "execute_result"
    }
   ],
   "source": [
    "len(Prøve_FT)"
   ]
  },
  {
   "cell_type": "code",
   "execution_count": 9,
   "id": "375eaf48",
   "metadata": {},
   "outputs": [],
   "source": [
    "#Prøve_FT[0:100]"
   ]
  },
  {
   "cell_type": "markdown",
   "id": "536da66e",
   "metadata": {},
   "source": [
    "Det ovenstående søger at genkende når der er et menigt medlem(hermed ment ikke formanden eller en minister) som ønsker at tale. Problemet er her at opremsningen af medlemmer af folketinget i starten af folketingsåret genkendes som \"en taler\" samt at metatale lavet af formanden genkendes eks. \"Medlem af folketinget Askjær Jørgensen (FP) har meddelt mig, at han ønsker til industriministeren at stille følgende:\". I begge tilfælde ser jeg det dog som mindre problematisk. \n",
    "I første tilfælde vil de \"genkendte\" talere blive tildelt en \"tale\" som er tom, altså at disse ikke siger noget, hvilket vil blive sorteret fra når jeg udtrækker de folketingstaler jeg ønsker at analysere. \n",
    "I andet tilfælde af problemet er ligeledes mindre problematisk. Her er der tale om at folketingets formand fremsætter et menigt medlems holdninger, og deraf ser jeg det ikke problematisk at \"karakterisere\" disse som folketingstaler."
   ]
  },
  {
   "cell_type": "markdown",
   "id": "aa3594ff",
   "metadata": {},
   "source": [
    "### Genkendelse af ministre:"
   ]
  },
  {
   "cell_type": "code",
   "execution_count": 10,
   "id": "d9a317fe",
   "metadata": {},
   "outputs": [],
   "source": [
    "ministre_FT = []\n",
    "for sentence in FT_data:\n",
    "    if len(sentence) < 100:\n",
    "        if len(re.findall(\"\\w*minister[\\w ]*\\(([\\w-]*|[\\w ]*)\\)\", sentence.lower())) > 0:\n",
    "            ministre_FT.append(sentence)"
   ]
  },
  {
   "cell_type": "code",
   "execution_count": 11,
   "id": "69015b18",
   "metadata": {},
   "outputs": [],
   "source": [
    "ministre_FT.sort(key = len, reverse = True)"
   ]
  },
  {
   "cell_type": "code",
   "execution_count": 12,
   "id": "8d63cd77",
   "metadata": {},
   "outputs": [],
   "source": [
    "#ministre_FT[0:1000]"
   ]
  },
  {
   "cell_type": "code",
   "execution_count": 13,
   "id": "930c170f",
   "metadata": {},
   "outputs": [],
   "source": [
    "ministre_FT = []\n",
    "for sentence in FT_data:\n",
    "    if len(sentence) < 100:\n",
    "        if len(re.findall(\"\\w*minister[\\w ]*\\([\\w-]*\\)\", sentence.lower())) > 0:\n",
    "            ministre_FT.append(sentence)"
   ]
  },
  {
   "cell_type": "code",
   "execution_count": 14,
   "id": "6b99ec25",
   "metadata": {},
   "outputs": [],
   "source": [
    "#ministre_FT"
   ]
  },
  {
   "cell_type": "markdown",
   "id": "2da87a30",
   "metadata": {},
   "source": [
    "Det ovenstående genkender meget godt når der er tale om en minister."
   ]
  },
  {
   "cell_type": "code",
   "execution_count": 15,
   "id": "db91a955",
   "metadata": {},
   "outputs": [
    {
     "data": {
      "text/plain": [
       "1"
      ]
     },
     "execution_count": 15,
     "metadata": {},
     "output_type": "execute_result"
    }
   ],
   "source": [
    "p = \"Energiministeren (Bilgrav-Nielsen)\"\n",
    "len(re.findall(\"\\w*minister[\\w ]*\\(([\\w-]*|[\\w ]*)\\)\", p.lower()))"
   ]
  },
  {
   "cell_type": "markdown",
   "id": "086c7eca",
   "metadata": {},
   "source": [
    "### Genkendelse af Formanden:"
   ]
  },
  {
   "cell_type": "code",
   "execution_count": 16,
   "id": "7bb4874f",
   "metadata": {},
   "outputs": [
    {
     "data": {
      "text/plain": [
       "193"
      ]
     },
     "execution_count": 16,
     "metadata": {},
     "output_type": "execute_result"
    }
   ],
   "source": [
    "count_formanden = 0\n",
    "for sentence in FT_data:\n",
    "    if sentence.lower() == \"formanden\" or sentence.lower() == \"formanden:\":\n",
    "        count_formanden += 1\n",
    "count_formanden"
   ]
  },
  {
   "cell_type": "markdown",
   "id": "5fda821c",
   "metadata": {},
   "source": [
    "### Genkendelse af næstformand"
   ]
  },
  {
   "cell_type": "code",
   "execution_count": 17,
   "id": "7756d43b",
   "metadata": {},
   "outputs": [
    {
     "data": {
      "text/plain": [
       "123"
      ]
     },
     "execution_count": 17,
     "metadata": {},
     "output_type": "execute_result"
    }
   ],
   "source": [
    "n = 0\n",
    "for sentence in FT_data:\n",
    "    if re.search(\"næstformand \\(\\w*\\):$\", sentence.lower()) or re.search(\"næstformand \\(\\w* \\w*\\):$\", sentence.lower()):\n",
    "        n += 1\n",
    "        \n",
    "n"
   ]
  },
  {
   "cell_type": "markdown",
   "id": "2bce76e3",
   "metadata": {},
   "source": [
    "Jeg undersøger nu om der kan være nogle datapunkter der er blevet misset:"
   ]
  },
  {
   "cell_type": "code",
   "execution_count": 18,
   "id": "b4d0ba18",
   "metadata": {},
   "outputs": [
    {
     "data": {
      "text/plain": [
       "['[Formanden]',\n",
       " '[Formanden]',\n",
       " '[Formanden]',\n",
       " '[Formanden]',\n",
       " '[Formanden]',\n",
       " '[Formanden]',\n",
       " '[Formanden]',\n",
       " '[Formanden]',\n",
       " '[Formanden]',\n",
       " '[Formanden]']"
      ]
     },
     "execution_count": 18,
     "metadata": {},
     "output_type": "execute_result"
    }
   ],
   "source": [
    "formanden_problem = []\n",
    "for sentence in FT_data:\n",
    "    if len(sentence) <= 15:\n",
    "        if len(re.findall(\"formanden\", sentence.lower())) > 0:\n",
    "            if sentence.lower() != \"formanden\" and sentence.lower() != \"formanden:\":\n",
    "                formanden_problem.append(sentence)\n",
    "formanden_problem[0:10]"
   ]
  },
  {
   "cell_type": "markdown",
   "id": "c02e5338",
   "metadata": {},
   "source": [
    "I det ovenstående er der tale om at der står i margenen af folketingstidende, at det er formanden der taler, det er derfor ikke problematisk at disse sorteres fra."
   ]
  },
  {
   "cell_type": "markdown",
   "id": "2c32ed3f",
   "metadata": {},
   "source": [
    "### Marginer sorteres fra:"
   ]
  },
  {
   "cell_type": "code",
   "execution_count": 19,
   "id": "70156a34",
   "metadata": {},
   "outputs": [
    {
     "name": "stdout",
     "output_type": "stream",
     "text": [
      "737\n"
     ]
    },
    {
     "data": {
      "text/plain": [
       "['3 2/10 90: Folketingets åbning 4',\n",
       " '5 2/10 90: Statsministerens åbningstale 6',\n",
       " '7 2/10 90; Statsministerens åbningstale 8',\n",
       " '9 2/10 90: Statsministerens åbningstale 10',\n",
       " '11 2/10 90: Statsministerens åbningstale 12',\n",
       " '13 2/10 90: Statsministerens åbningstale 14',\n",
       " '15 2/10 90: Statsministerens åbningstale 16',\n",
       " '17 2/10 90 : Statsministerens åbningstale. Skriftlig del 18',\n",
       " '19 2/10 90: Statsministerens åbningstale. Skriftlig del 20',\n",
       " '21 2/10 90: Statsministerens åbningstale. Skriftlig del 22']"
      ]
     },
     "execution_count": 19,
     "metadata": {},
     "output_type": "execute_result"
    }
   ],
   "source": [
    "hele_margin = []\n",
    "for sentence in FT_data:\n",
    "    if len(re.findall(\"^[1-9]{1,5} [1-9]{1,2}/[1-9]{1,2}\", sentence.lower())) > 0: #tilføjet til at fange headers på sider\n",
    "        if len(sentence) < 200:\n",
    "            hele_margin.append(sentence)\n",
    "print(len(hele_margin))\n",
    "hele_margin[0:10]"
   ]
  },
  {
   "cell_type": "code",
   "execution_count": 20,
   "id": "ac614ef2",
   "metadata": {},
   "outputs": [
    {
     "name": "stdout",
     "output_type": "stream",
     "text": [
      "952\n"
     ]
    },
    {
     "data": {
      "text/plain": [
       "['3 2/10 90: Folketingets åbning 4',\n",
       " '5 2/10 90: Statsministerens åbningstale 6',\n",
       " '7 2/10 90; Statsministerens åbningstale 8',\n",
       " '9 2/10 90: Statsministerens åbningstale 10',\n",
       " '11 2/10 90: Statsministerens åbningstale 12',\n",
       " '13 2/10 90: Statsministerens åbningstale 14',\n",
       " '15 2/10 90: Statsministerens åbningstale 16',\n",
       " '17 2/10 90 : Statsministerens åbningstale. Skriftlig del 18',\n",
       " '19 2/10 90: Statsministerens åbningstale. Skriftlig del 20',\n",
       " '21 2/10 90: Statsministerens åbningstale. Skriftlig del 22']"
      ]
     },
     "execution_count": 20,
     "metadata": {},
     "output_type": "execute_result"
    }
   ],
   "source": [
    "hele_margin_prøve = []\n",
    "for sentence in FT_data:\n",
    "    if len(sentence) <= 170: \n",
    "        if len(re.findall(\"[1-9]{1,5} [1-9]{1,2}/[1-9]{1,2}\", sentence.lower()))  > 0:\n",
    "            hele_margin_prøve.append(sentence)\n",
    "print(len(hele_margin_prøve))\n",
    "hele_margin_prøve[0:10]"
   ]
  },
  {
   "cell_type": "code",
   "execution_count": 21,
   "id": "45f50e61",
   "metadata": {},
   "outputs": [
    {
     "data": {
      "text/plain": [
       "['2255 21/11 90: 1. beh. af f. t. I. vedr. tilsyn med begraveIseskasser og ligbrændingsforeninger m.v. 2256',\n",
       " '2257 21/11 90: 1. beh. af f. 1. I. vedr. tilsyn med begravelseskasser og ligbrændingsforeninger m.v. 2258',\n",
       " '2253 21/11 90: 1. beh. af f. 1.1. vedr. Det Europæiske Økonomiske Fællesskabs forordninger m.v. 2254',\n",
       " '(125) 1985 15/11 90: 1. beh. af f. t. beslutn. om ophævelse af sanktionerne over for Sydafrika 1986',\n",
       " '(69) 1089 25/10 90: 1. beh. äff. 1.1. vedr. erhverv i Danmark for statsborgere i EF og Norden 1090',\n",
       " '1347 31/10 90: 1. beh. af f. t. beslutn. om støtte til erhvervsdrivende ved vejarbejder m.v. 1348',\n",
       " '1349 31/10 90: 1. beh. af f. t. beslutn. om støtte til erhvervsdrivende ved vejarbejder m.v. 1350',\n",
       " '1351 31/10 90: 1. beh. af f. t. beslutn. om støtte til erhvervsdrivende ved vejarbejder m.v. 1352',\n",
       " '1353 31/10 90: 1. beh. af f. t. beslutn. om støtte til erhvervsdrivende ved vejarbejder m.v. 1354',\n",
       " '1355 31/10 90: 1. beh. af f. t. beslutn. om støtte til erhvervsdrivende ved vejarbejder m.v. 1356']"
      ]
     },
     "execution_count": 21,
     "metadata": {},
     "output_type": "execute_result"
    }
   ],
   "source": [
    "hele_margin_prøve.sort(key = len, reverse = True)\n",
    "hele_margin_prøve[0:10]"
   ]
  },
  {
   "cell_type": "markdown",
   "id": "dd573094",
   "metadata": {},
   "source": [
    "Det er klart at det ovenstående er marginerne på hver side. Hvis man dog følger tallet til venstre, som er det første spalte(af to) på hver side af folketingstidende, kan man dog se at det ikke er alle marginer der findes her."
   ]
  },
  {
   "cell_type": "code",
   "execution_count": 22,
   "id": "6855b075",
   "metadata": {},
   "outputs": [
    {
     "name": "stdout",
     "output_type": "stream",
     "text": [
      "1551\n"
     ]
    },
    {
     "data": {
      "text/plain": [
       "['(1) l 2/10 90: Folketingets åbning 2',\n",
       " '3 2/10 90: Folketingets åbning 4',\n",
       " '5 2/10 90: Statsministerens åbningstale 6',\n",
       " '7 2/10 90; Statsministerens åbningstale 8',\n",
       " '9 2/10 90: Statsministerens åbningstale 10',\n",
       " '11 2/10 90: Statsministerens åbningstale 12',\n",
       " '13 2/10 90: Statsministerens åbningstale 14',\n",
       " '15 2/10 90: Statsministerens åbningstale 16',\n",
       " '17 2/10 90 : Statsministerens åbningstale. Skriftlig del 18',\n",
       " '19 2/10 90: Statsministerens åbningstale. Skriftlig del 20']"
      ]
     },
     "execution_count": 22,
     "metadata": {},
     "output_type": "execute_result"
    }
   ],
   "source": [
    "dato_alene = []\n",
    "for sentence in FT_data:\n",
    "    if len(re.findall(\"[1-9]{1,2}/[1-9]{1,2}\", sentence.lower())) > 0: #tilføjet til at fange headers på sider\n",
    "            if len(sentence) < 200:\n",
    "                dato_alene.append(sentence)\n",
    "print(len(dato_alene))\n",
    "dato_alene[0:10]"
   ]
  },
  {
   "cell_type": "markdown",
   "id": "496ac1b9",
   "metadata": {},
   "source": [
    "Her kan det også ses at der er tale om marginer. Disse skal derfor ligeledes sorteres fra. Problemet er her at spaltenumrene da er sorteret som individuelle datapunkter. Jeg prøver da også at sortere disse fra."
   ]
  },
  {
   "cell_type": "code",
   "execution_count": 23,
   "id": "c821e44c",
   "metadata": {},
   "outputs": [
    {
     "data": {
      "text/plain": [
       "['534', '919', '1125', '1126', '1127', '1128', '1134', '1136', '1142', '1143']"
      ]
     },
     "execution_count": 23,
     "metadata": {},
     "output_type": "execute_result"
    }
   ],
   "source": [
    "tal_genkendt = []\n",
    "for sentence in FT_data:\n",
    "    if re.fullmatch(\"[1-9]{1,10}\", sentence.lower()): #tilføjet til at fange headers på sider\n",
    "        tal_genkendt.append(sentence)\n",
    "tal_genkendt[0:10]"
   ]
  },
  {
   "cell_type": "markdown",
   "id": "641eeb8e",
   "metadata": {},
   "source": [
    "Hvis man kigger tallene igennem er det meget plausibelt at der her er tale om de manglende spaltenumre. Disse skal altså også sorteres fra."
   ]
  },
  {
   "cell_type": "markdown",
   "id": "4a15580e",
   "metadata": {},
   "source": [
    "I marginerne optræder altså også en navn på vedkommende der er den \"tallende\" når der skiftes spalte. Disse vil jeg også forsøge at sortere fra, da jeg ikke ønsker at en taler fra folketingets talerstols eget navn skal indgå i dennes tale. Heldigvis har disse navne også en relativt nem formatering, nemlig \\[navn\\]. Jeg søger altså efter datapunker der matcher denne formatering."
   ]
  },
  {
   "cell_type": "code",
   "execution_count": 24,
   "id": "2f17e1d8",
   "metadata": {},
   "outputs": [
    {
     "name": "stdout",
     "output_type": "stream",
     "text": [
      "1027\n"
     ]
    }
   ],
   "source": [
    "tallere_fra_forrige_side = []\n",
    "for sentence in FT_data:\n",
    "    if re.fullmatch(\"\\[.{1,100}\\]\", sentence.lower()):\n",
    "        tallere_fra_forrige_side.append(sentence)\n",
    "print(len(tallere_fra_forrige_side))"
   ]
  },
  {
   "cell_type": "code",
   "execution_count": 25,
   "id": "9e52a0b9",
   "metadata": {},
   "outputs": [
    {
     "data": {
      "text/plain": [
       "['[Formanden]',\n",
       " '[Statsministeren]',\n",
       " '[Statsministeren]',\n",
       " '[Statsministeren]',\n",
       " '[Statsministeren]',\n",
       " '[Statsministeren]',\n",
       " '[Statsministeren]',\n",
       " '[Statsministeren]',\n",
       " '[Statsministeren]',\n",
       " '[Statsministeren]']"
      ]
     },
     "execution_count": 25,
     "metadata": {},
     "output_type": "execute_result"
    }
   ],
   "source": [
    "tallere_fra_forrige_side[0:10]"
   ]
  },
  {
   "cell_type": "markdown",
   "id": "cdfe2366",
   "metadata": {},
   "source": [
    "### Tallere fra forrige side som ikke er blevet læst som seperate enheder:"
   ]
  },
  {
   "cell_type": "code",
   "execution_count": 26,
   "id": "316640af",
   "metadata": {},
   "outputs": [
    {
     "name": "stdout",
     "output_type": "stream",
     "text": [
      "1\n"
     ]
    }
   ],
   "source": [
    "tallere_fra_forrige_side_læst_forkert = []\n",
    "for sentence in FT_data:\n",
    "    if not re.fullmatch(\"\\[.{1,100}\\]\", sentence.lower()):\n",
    "        if not re.fullmatch(\"\\[.{1,100}\\].\", sentence.lower()):\n",
    "            if re.match(\"^\\[.{1,100}\\]\", sentence.lower()):\n",
    "                tallere_fra_forrige_side_læst_forkert.append(sentence)\n",
    "print(len(tallere_fra_forrige_side_læst_forkert))"
   ]
  },
  {
   "cell_type": "code",
   "execution_count": 27,
   "id": "fd4dafa6",
   "metadata": {},
   "outputs": [
    {
     "data": {
      "text/plain": [
       "[\"[Erling Christensen] '\"]"
      ]
     },
     "execution_count": 27,
     "metadata": {},
     "output_type": "execute_result"
    }
   ],
   "source": [
    "tallere_fra_forrige_side_læst_forkert"
   ]
  },
  {
   "cell_type": "markdown",
   "id": "2e966c2f",
   "metadata": {},
   "source": [
    "Her findes de forskellige navne fra marginerne, som skal sorteres fra."
   ]
  },
  {
   "cell_type": "markdown",
   "id": "cfc3798b",
   "metadata": {},
   "source": [
    "## Sammensætning af det ovenstående"
   ]
  },
  {
   "cell_type": "markdown",
   "id": "56ce909e",
   "metadata": {},
   "source": [
    "I det følgende vil jeg sætte alt det ovenstående sammen, med det formål at udtrække folketingstaler, samt hvem der taler, og sortere marginer fra."
   ]
  },
  {
   "cell_type": "code",
   "execution_count": 28,
   "id": "80edd6ec",
   "metadata": {},
   "outputs": [],
   "source": [
    "indhold = FT_data\n",
    "talere = []\n",
    "tale = []\n",
    "parti = []\n",
    "count_folketing = 0\n",
    "Partier_i_folketinget = [\"(A)\", \"(SF)\", \"(S)\", \"(RV)\", \"(KF)\", \"(V)\", \"(FP)\", \"(CD)\", \"(VS)\", \"(KrF)\"]\n",
    "for index in range(len(indhold)):\n",
    "        sentence = indhold[index]\n",
    "        if len(re.findall(\"(^.{1,50} \\([A-Z]+\\)|.{1,50} \\(KrF\\))\", sentence)) > 0: #Tjekker om det er et menigt medlem\n",
    "            if len(re.findall(\"(\\([A-Z]+\\)|\\(KrF\\))\", sentence)) < 2:\n",
    "                if len(re.findall(\"Ny stedf.\", sentence)) > 0:\n",
    "                    pass\n",
    "                elif len(re.findall(\"Udtræder:\", sentence)) > 0:\n",
    "                    pass\n",
    "                elif len(re.findall(\"Nyt medl\", sentence)) > 0:\n",
    "                    pass\n",
    "                elif len(re.findall(\" af\", sentence.lower())) > 0:\n",
    "                    pass\n",
    "                elif re.findall(\"(\\([A-Z]+\\)|\\(KrF\\))\", sentence)[0] in Partier_i_folketinget:\n",
    "                    talere.append(sentence)\n",
    "                    parti.append(re.findall(\"(\\([A-Z]+\\)|\\(KrF\\))\", sentence)[0])\n",
    "                    tale.append(\"\")\n",
    "                    count_folketing += 1\n",
    "                else:\n",
    "                    if len(tale) >= 1:\n",
    "                        tale[-1] = tale[-1] + \" \" + sentence\n",
    "            else: #ellers er det en tale\n",
    "                if len(tale) >= 1:\n",
    "                    tale[-1] = tale[-1] + \" \" + sentence\n",
    "                #if len(re.findall(\"(\\([A-Z]+\\)|\\(KrF\\))\", sentence)) < 2:\n",
    "        elif sentence.lower() == \"formanden\" or sentence.lower() == \"formanden:\": #tjekker om det er formanden der taler\n",
    "            talere.append(\"formanden\")\n",
    "            parti.append(\"Formanden\")\n",
    "            tale.append(\"\")\n",
    "        elif re.search(\"næstformand \\(\\w*\\)\", sentence.lower()) or re.search(\"næstformand \\(\\w* \\w*\\)\", sentence.lower()):\n",
    "            talere.append(sentence.lower())\n",
    "            parti.append(\"næstformanden\")\n",
    "            tale.append(\"\")\n",
    "        elif len(sentence) < 100: #Tjekker om det er en minister der taler\n",
    "            if len(re.findall(\"\\w*minister[\\w ]*\\([\\w ]*\\)\", sentence.lower())) > 0:\n",
    "                talere.append(sentence)\n",
    "                parti.append(\"Regeringen\")\n",
    "                tale.append(\"\")\n",
    "            else:\n",
    "                if len(tale) >= 1:\n",
    "                    tale[-1] = tale[-1] + \" \" + sentence\n",
    "        elif len(re.findall(\"^[1-9]{1,5} [1-9]{1,2}/[1-9]{1,2}\", sentence.lower())) > 0: #tilføjet til at fange headers på sider\n",
    "            if len(sentence) < 200:\n",
    "                pass\n",
    "        elif len(re.findall(\"^[1-9]{1,2}/[1-9]{1,2}\", sentence.lower())) > 0: #tilføjet til at fange headers på sider\n",
    "            if len(sentence) < 200:\n",
    "                pass\n",
    "            else:\n",
    "                if len(tale) >= 1:\n",
    "                    tale[-1] = tale[-1] + \" \" + sentence\n",
    "        elif re.fullmatch(\"\\[.{1,100}\\]\", sentence.lower()):\n",
    "            pass\n",
    "        elif re.fullmatch(\"[1-9]{1,10}\", sentence.lower()):\n",
    "            pass\n",
    "        else:\n",
    "            if len(tale) >= 1:\n",
    "                tale[-1] = tale[-1] + \" \" + sentence"
   ]
  },
  {
   "cell_type": "markdown",
   "id": "bfb534aa",
   "metadata": {},
   "source": [
    "Jeg laver nu en funktion ud af dette:"
   ]
  },
  {
   "cell_type": "code",
   "execution_count": 29,
   "id": "7c327665",
   "metadata": {},
   "outputs": [],
   "source": [
    "def FT_taler(indhold):\n",
    "    talere = []\n",
    "    tale = []\n",
    "    parti = []\n",
    "    count_folketing = 0\n",
    "    Partier_i_folketinget = [\"(A)\", \"(SF)\", \"(S)\", \"(RV)\", \"(KF)\", \"(V)\", \"(FP)\", \"(CD)\", \"(VS)\", \"(KrF)\"]\n",
    "    for index in range(len(indhold)):\n",
    "        sentence = indhold[index]\n",
    "        if len(re.findall(\"(^.{1,50} \\([A-Z]+\\)|.{1,50} \\(KrF\\))\", sentence)) > 0: #Tjekker om det er et menigt medlem\n",
    "            if len(re.findall(\"(\\([A-Z]+\\)|\\(KrF\\))\", sentence)) < 2:\n",
    "                if len(re.findall(\"Ny stedf.\", sentence)) > 0:\n",
    "                    pass\n",
    "                elif len(re.findall(\"Udtræder:\", sentence)) > 0:\n",
    "                    pass\n",
    "                elif len(re.findall(\"Nyt medl\", sentence)) > 0:\n",
    "                    pass\n",
    "                elif len(re.findall(\" af\", sentence.lower())) > 0:\n",
    "                    pass\n",
    "                elif re.findall(\"(\\([A-Z]+\\)|\\(KrF\\))\", sentence)[0] in Partier_i_folketinget:\n",
    "                    talere.append(sentence)\n",
    "                    parti.append(re.findall(\"(\\([A-Z]+\\)|\\(KrF\\))\", sentence)[0])\n",
    "                    tale.append(\"\")\n",
    "                    count_folketing += 1\n",
    "                else:\n",
    "                    if len(tale) >= 1:\n",
    "                        tale[-1] = tale[-1] + \" \" + sentence\n",
    "            else: #ellers er det en tale\n",
    "                if len(tale) >= 1:\n",
    "                    tale[-1] = tale[-1] + \" \" + sentence\n",
    "                #if len(re.findall(\"(\\([A-Z]+\\)|\\(KrF\\))\", sentence)) < 2:\n",
    "        elif sentence.lower() == \"formanden\" or sentence.lower() == \"formanden:\": #tjekker om det er formanden der taler\n",
    "            talere.append(\"formanden\")\n",
    "            parti.append(\"Formanden\")\n",
    "            tale.append(\"\")\n",
    "        elif re.search(\"næstformand \\(\\w*\\):$\", sentence.lower()) or re.search(\"næstformand \\(\\w* \\w*\\):$\", sentence.lower()):\n",
    "            talere.append(sentence.lower())\n",
    "            parti.append(\"næstformanden\")\n",
    "            tale.append(\"\")\n",
    "        elif len(sentence) < 100: #Tjekker om det er en minister der taler\n",
    "            if len(re.findall(\"\\w*minister[\\w ]*\\(([\\w-]*|[\\w ]*)\\)\", sentence.lower())) > 0:\n",
    "                talere.append(sentence)\n",
    "                parti.append(\"Regeringen\")\n",
    "                tale.append(\"\")\n",
    "            else:\n",
    "                if len(tale) >= 1:\n",
    "                    tale[-1] = tale[-1] + \" \" + sentence\n",
    "        elif len(re.findall(\"^[1-9]{1,5} [1-9]{1,2}/[1-9]{1,2}\", sentence.lower())) > 0: #tilføjet til at fange headers på sider\n",
    "            if len(sentence) < 200:\n",
    "                pass\n",
    "        elif len(re.findall(\"^[1-9]{1,2}/[1-9]{1,2}\", sentence.lower())) > 0: #tilføjet til at fange headers på sider\n",
    "            if len(sentence) < 200:\n",
    "                pass\n",
    "            else:\n",
    "                if len(tale) >= 1:\n",
    "                    tale[-1] = tale[-1] + \" \" + sentence\n",
    "        elif re.fullmatch(\"\\[.{1,100}\\]\", sentence.lower()):\n",
    "            pass\n",
    "        elif re.fullmatch(\"[1-9]{1,10}\", sentence.lower()):\n",
    "            pass\n",
    "        else:\n",
    "            if len(tale) >= 1:\n",
    "                tale[-1] = tale[-1] + \" \" + sentence\n",
    "    return tale, talere, parti"
   ]
  },
  {
   "cell_type": "markdown",
   "id": "078cb2e5",
   "metadata": {},
   "source": [
    "Ovenstående funktion danner basis for formatering af data til senere analyse."
   ]
  },
  {
   "cell_type": "markdown",
   "id": "daaea918",
   "metadata": {},
   "source": [
    "### Formatering af 90'ernes data:"
   ]
  },
  {
   "cell_type": "markdown",
   "id": "6ff87844",
   "metadata": {},
   "source": [
    "Ved en senere analyse kunne det tyde på at 90'ernes data er dårligere opdelt end det tidligere, jeg undersøger:"
   ]
  },
  {
   "cell_type": "code",
   "execution_count": 30,
   "id": "2a0e02bb",
   "metadata": {},
   "outputs": [],
   "source": [
    "path = \"../../Folketingstidende/Hele/\"\n",
    "dir_path = Path(f\"{path}\")\n",
    "csv_files = list(dir_path.glob(\"*.csv\"))"
   ]
  },
  {
   "cell_type": "code",
   "execution_count": 31,
   "id": "4b9f99ad",
   "metadata": {},
   "outputs": [
    {
     "data": {
      "text/plain": [
       "[PosixPath('../../Folketingstidende/Hele/19531.csv'),\n",
       " PosixPath('../../Folketingstidende/Hele/19541.csv'),\n",
       " PosixPath('../../Folketingstidende/Hele/19551.csv'),\n",
       " PosixPath('../../Folketingstidende/Hele/19561.csv'),\n",
       " PosixPath('../../Folketingstidende/Hele/19562.csv')]"
      ]
     },
     "execution_count": 31,
     "metadata": {},
     "output_type": "execute_result"
    }
   ],
   "source": [
    "csv_files.sort()\n",
    "csv_files[0:5]"
   ]
  },
  {
   "cell_type": "code",
   "execution_count": 32,
   "id": "85bcd3c9",
   "metadata": {},
   "outputs": [
    {
     "data": {
      "text/plain": [
       "[PosixPath('../../Folketingstidende/Hele/19901.csv'),\n",
       " PosixPath('../../Folketingstidende/Hele/19902.csv'),\n",
       " PosixPath('../../Folketingstidende/Hele/19911.csv'),\n",
       " PosixPath('../../Folketingstidende/Hele/19921.csv'),\n",
       " PosixPath('../../Folketingstidende/Hele/19931.csv'),\n",
       " PosixPath('../../Folketingstidende/Hele/19941.csv'),\n",
       " PosixPath('../../Folketingstidende/Hele/19951.csv'),\n",
       " PosixPath('../../Folketingstidende/Hele/19961.csv'),\n",
       " PosixPath('../../Folketingstidende/Hele/19971.csv'),\n",
       " PosixPath('../../Folketingstidende/Hele/19972.csv'),\n",
       " PosixPath('../../Folketingstidende/Hele/19981.csv'),\n",
       " PosixPath('../../Folketingstidende/Hele/19991.csv')]"
      ]
     },
     "execution_count": 32,
     "metadata": {},
     "output_type": "execute_result"
    }
   ],
   "source": [
    "csv_files[49:61]"
   ]
  },
  {
   "cell_type": "code",
   "execution_count": 33,
   "id": "1cbb7aba",
   "metadata": {},
   "outputs": [],
   "source": [
    "Folketingstaler_i_90erne = {}\n",
    "for fil in csv_files[49:61]:\n",
    "    if str(fil)[-9:-5] in Folketingstaler_i_90erne:\n",
    "        folketingsår = pd.read_csv(fil ,sep=';', encoding = \"latin1\")\n",
    "        taler = folketingsår[\"indhold\"]\n",
    "        for tale in taler:\n",
    "            Folketingstaler_i_90erne[str(fil)[-9:-5]].append(tale)\n",
    "    else:\n",
    "        folketingsår = pd.read_csv(fil ,sep=';', encoding = \"latin1\")\n",
    "        taler = folketingsår[\"indhold\"]\n",
    "        Folketingstaler_i_90erne[str(fil)[-9:-5]] = []\n",
    "        for tale in taler:\n",
    "            Folketingstaler_i_90erne[str(fil)[-9:-5]].append(tale)"
   ]
  },
  {
   "cell_type": "markdown",
   "id": "f35d15ea",
   "metadata": {},
   "source": [
    "### Undersøgelse af ministre 1990'erne"
   ]
  },
  {
   "cell_type": "code",
   "execution_count": 34,
   "id": "7954a6ec",
   "metadata": {},
   "outputs": [],
   "source": [
    "ministre_FT = []\n",
    "for år in Folketingstaler_i_90erne:\n",
    "    FT_data = Folketingstaler_i_90erne[år]\n",
    "    for sentence in FT_data:\n",
    "        if len(sentence) >= 100:\n",
    "            if len(re.findall(\"\\w*minister[\\w ]*\\(([\\w-]*|[\\w ]*)\\):\", sentence.lower())) > 0:\n",
    "                tale = re.findall(\"\\w*minister[\\w ]*\\(([\\w-]*|[\\w ]*)\\):\", sentence.lower())\n",
    "                ministre_FT.append(sentence)"
   ]
  },
  {
   "cell_type": "code",
   "execution_count": 35,
   "id": "e5d2741c",
   "metadata": {},
   "outputs": [],
   "source": [
    "#ministre_FT"
   ]
  },
  {
   "cell_type": "markdown",
   "id": "16a71fab",
   "metadata": {},
   "source": [
    "Problem og forsøges fikset:"
   ]
  },
  {
   "cell_type": "markdown",
   "id": "53fafed4",
   "metadata": {},
   "source": [
    "### Menige folketingsmedlemmer:"
   ]
  },
  {
   "cell_type": "code",
   "execution_count": 36,
   "id": "6bee0814",
   "metadata": {},
   "outputs": [],
   "source": [
    "Prøve_FT = []\n",
    "længder_lists = []\n",
    "Partier_i_folketinget = [\"(A)\", \"(SF)\", \"(S)\", \"(RV)\", \"(KF)\", \"(V)\", \"(FP)\", \"(CD)\", \"(VS)\",\n",
    "                             \"(KrF)\", \"(DR)\", \"(UP)\", \"(Grønl.)\", \"(Fær.)\", \"(DF)\", \"(EL)\"] #liste af partier\n",
    "for år in Folketingstaler_i_90erne:\n",
    "    FT_data = Folketingstaler_i_90erne[år]\n",
    "    for sentence in FT_data:\n",
    "        if len(re.findall(\"(^.{1,50} \\([A-Z]+\\)|^.{1,50} \\(KrF\\)|^.{1,50} \\(Grønl.\\)|^.{1,50} \\(Fær.\\))\", sentence)) > 0: #Tjekker om det er et menigt medlem\n",
    "            if len(re.findall(\"(\\([A-Z]+\\)|\\(KrF\\)|\\(Grønl.\\)|\\(Fær.\\))\", sentence)) < 2:\n",
    "                if len(re.findall(\"(\\([A-Z]+\\)|\\(KrF\\))\", sentence)) < 2:\n",
    "                    if len(re.findall(\"Ny stedf.\", sentence)) > 0:\n",
    "                        pass\n",
    "                    elif len(re.findall(\"Udtræder:\", sentence)) > 0:\n",
    "                        pass\n",
    "                    elif len(re.findall(\"Nyt medl\", sentence)) > 0:\n",
    "                        pass\n",
    "                    elif len(re.findall(\" af\", sentence.lower())) > 0:\n",
    "                        pass\n",
    "                    elif re.findall(\"(\\([A-Z]+\\)|\\(KrF\\)|\\(Grønl.\\)|\\(Fær.\\))\", sentence)[0] in Partier_i_folketinget:\n",
    "                        if len(sentence) > 35:\n",
    "                            længder_lists.append(re.split(\"(^.{1,50} \\([A-Z]+\\)|^.{1,50} \\(KrF\\)|^.{1,50} \\(Grønl.\\)|^.{1,50} \\(Fær.\\))\", sentence))\n",
    "                        Prøve_FT.append(sentence)"
   ]
  },
  {
   "cell_type": "code",
   "execution_count": 37,
   "id": "eeb2cf27",
   "metadata": {},
   "outputs": [],
   "source": [
    "Prøve_FT.sort(key = len, reverse = True)"
   ]
  },
  {
   "cell_type": "code",
   "execution_count": 38,
   "id": "cdc4bba2",
   "metadata": {},
   "outputs": [],
   "source": [
    "#længder_lists"
   ]
  },
  {
   "cell_type": "code",
   "execution_count": 39,
   "id": "684231f4",
   "metadata": {},
   "outputs": [
    {
     "data": {
      "text/plain": [
       "135214"
      ]
     },
     "execution_count": 39,
     "metadata": {},
     "output_type": "execute_result"
    }
   ],
   "source": [
    "len(Prøve_FT)"
   ]
  },
  {
   "cell_type": "code",
   "execution_count": 40,
   "id": "826588ed",
   "metadata": {},
   "outputs": [],
   "source": [
    "#Prøve_FT"
   ]
  },
  {
   "cell_type": "code",
   "execution_count": 41,
   "id": "0889bd9e",
   "metadata": {},
   "outputs": [
    {
     "data": {
      "text/plain": [
       "['',\n",
       " 'Bent Hindrup Andersen (EL):',\n",
       " ' Århusproblemet, som har medført dette lovforslag, har man selv stoppet i Århus, så vidt jeg kan se. Jeg tror, alle ordførerne har set den telefax, man har sendt ud, og vi synes egentlig, det er en bedre måde at løse problemet på at fastholde refusionen på 48 pet. Det undrer mig i øvrigt, hvordan ministeren umiddelbart kan ned- sætte den til 40 pet., når der er handlet ud fra et regelsæt, hvor man har fået en udmelding om, at den var på 48 pct.. Så kan man jo sige, at de penge, der trods alt er givet til Århus, ikke er givet dårligt ud, for det er jo nogle teateraktiviteter, som jeg tror er helt i orden.']"
      ]
     },
     "execution_count": 41,
     "metadata": {},
     "output_type": "execute_result"
    }
   ],
   "source": [
    "re.split(\"(^.{1,50} \\([A-Z]+\\):|.{1,50} \\(KrF\\):)\", Prøve_FT[0])"
   ]
  },
  {
   "cell_type": "code",
   "execution_count": 42,
   "id": "e4b2028e",
   "metadata": {},
   "outputs": [],
   "source": [
    "p = 'Af Kirsten Jacobsen (FP) m.fl. (Forespørgslen anmeldt 8/10 92).'"
   ]
  },
  {
   "cell_type": "code",
   "execution_count": 44,
   "id": "be8b4f56",
   "metadata": {},
   "outputs": [],
   "source": [
    "af = []\n",
    "for år in Folketingstaler_i_90erne:\n",
    "    FT_data = Folketingstaler_i_90erne[år]\n",
    "    for sentence in FT_data:\n",
    "        if len(re.findall(\"(^.{1,50} \\([A-Z]+\\)|^.{1,50} \\(KrF\\)|^.{1,50} \\(Grønl.\\)|^.{1,50} \\(Fær.\\))\", sentence)) > 0 and re.match(\"^Af \", sentence):\n",
    "            af.append(sentence)"
   ]
  },
  {
   "cell_type": "code",
   "execution_count": 45,
   "id": "6e19887a",
   "metadata": {},
   "outputs": [],
   "source": [
    "#af"
   ]
  }
 ],
 "metadata": {
  "kernelspec": {
   "display_name": "Python 3 (ipykernel)",
   "language": "python",
   "name": "python3"
  },
  "language_info": {
   "codemirror_mode": {
    "name": "ipython",
    "version": 3
   },
   "file_extension": ".py",
   "mimetype": "text/x-python",
   "name": "python",
   "nbconvert_exporter": "python",
   "pygments_lexer": "ipython3",
   "version": "3.10.2"
  }
 },
 "nbformat": 4,
 "nbformat_minor": 5
}
