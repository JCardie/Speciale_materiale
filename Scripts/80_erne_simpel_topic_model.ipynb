{
 "cells": [
  {
   "cell_type": "code",
   "execution_count": 64,
   "id": "4e73e648",
   "metadata": {},
   "outputs": [],
   "source": [
    "from pathlib import Path\n",
    "from pathlib import *\n",
    "import pandas as pd\n",
    "import re\n",
    "from random import randint\n",
    "from random import shuffle\n",
    "import spacy\n",
    "from time import time\n",
    "import matplotlib.pyplot as plt\n",
    "import gensim.corpora as corpora\n",
    "import gensim\n",
    "from pprint import pprint\n",
    "from gensim.models import TfidfModel\n",
    "from gensim.models import CoherenceModel\n",
    "from gensim import  models\n",
    "from gensim.test.utils import datapath\n",
    "nlpd = spacy.load(\"da_core_news_lg\")"
   ]
  },
  {
   "cell_type": "markdown",
   "id": "cb2010d6",
   "metadata": {},
   "source": [
    "# 80'erne simpel topic model\n",
    "Det følgende script vil søge at lave en topic-model over den danske EU-debat, men hvor domænespecifikke begreber ikke undlades, ligesom at der ikke lades TD-IDF på data."
   ]
  },
  {
   "cell_type": "markdown",
   "id": "becc81a6",
   "metadata": {},
   "source": [
    "### Formål\n",
    "Dette script ønsker konstruere en topic model over 80'ernes EF-debat, og derefter analysere denne models output."
   ]
  },
  {
   "cell_type": "code",
   "execution_count": 65,
   "id": "0d33802a",
   "metadata": {},
   "outputs": [],
   "source": [
    "path = \"../../Folketingstidende/Hele/\"\n",
    "dir_path = Path(f\"{path}\")\n",
    "csv_files = list(dir_path.glob(\"*.csv\"))"
   ]
  },
  {
   "cell_type": "code",
   "execution_count": 66,
   "id": "8fa894fd",
   "metadata": {},
   "outputs": [
    {
     "data": {
      "text/plain": [
       "[PosixPath('../../Folketingstidende/Hele/19531.csv'),\n",
       " PosixPath('../../Folketingstidende/Hele/19541.csv'),\n",
       " PosixPath('../../Folketingstidende/Hele/19551.csv'),\n",
       " PosixPath('../../Folketingstidende/Hele/19561.csv'),\n",
       " PosixPath('../../Folketingstidende/Hele/19562.csv')]"
      ]
     },
     "execution_count": 66,
     "metadata": {},
     "output_type": "execute_result"
    }
   ],
   "source": [
    "csv_files.sort() #sorter så data kommer i rigtig rækkefølge\n",
    "csv_files[0:5]"
   ]
  },
  {
   "cell_type": "code",
   "execution_count": 67,
   "id": "b5eed0b7",
   "metadata": {},
   "outputs": [
    {
     "data": {
      "text/plain": [
       "[PosixPath('../../Folketingstidende/Hele/19801.csv'),\n",
       " PosixPath('../../Folketingstidende/Hele/19811.csv'),\n",
       " PosixPath('../../Folketingstidende/Hele/19812.csv'),\n",
       " PosixPath('../../Folketingstidende/Hele/19821.csv'),\n",
       " PosixPath('../../Folketingstidende/Hele/19831.csv'),\n",
       " PosixPath('../../Folketingstidende/Hele/19832.csv'),\n",
       " PosixPath('../../Folketingstidende/Hele/19841.csv'),\n",
       " PosixPath('../../Folketingstidende/Hele/19851.csv'),\n",
       " PosixPath('../../Folketingstidende/Hele/19861.csv'),\n",
       " PosixPath('../../Folketingstidende/Hele/19862.csv'),\n",
       " PosixPath('../../Folketingstidende/Hele/19871.csv'),\n",
       " PosixPath('../../Folketingstidende/Hele/19872.csv'),\n",
       " PosixPath('../../Folketingstidende/Hele/19881.csv'),\n",
       " PosixPath('../../Folketingstidende/Hele/19891.csv')]"
      ]
     },
     "execution_count": 67,
     "metadata": {},
     "output_type": "execute_result"
    }
   ],
   "source": [
    "csv_files[35:49]"
   ]
  },
  {
   "cell_type": "code",
   "execution_count": 68,
   "id": "5031da41",
   "metadata": {},
   "outputs": [],
   "source": [
    "Folketingstaler_i_80erne = {}\n",
    "for fil in csv_files[35:49]:\n",
    "    if str(fil)[-9:-5] in Folketingstaler_i_80erne:\n",
    "        folketingsår = pd.read_csv(fil ,sep=';', encoding = \"latin1\")\n",
    "        taler = folketingsår[\"indhold\"]\n",
    "        for tale in taler:\n",
    "            Folketingstaler_i_80erne[str(fil)[-9:-5]].append(tale)\n",
    "    else:\n",
    "        folketingsår = pd.read_csv(fil ,sep=';', encoding = \"latin1\")\n",
    "        taler = folketingsår[\"indhold\"]\n",
    "        Folketingstaler_i_80erne[str(fil)[-9:-5]] = []\n",
    "        for tale in taler:\n",
    "            Folketingstaler_i_80erne[str(fil)[-9:-5]].append(tale)"
   ]
  },
  {
   "cell_type": "code",
   "execution_count": 69,
   "id": "2be950c6",
   "metadata": {},
   "outputs": [],
   "source": [
    "def FT_taler(indhold):\n",
    "    talere = []\n",
    "    tale = []\n",
    "    parti = []\n",
    "    Partier_i_folketinget = [\"(A)\", \"(SF)\", \"(S)\", \"(RV)\", \"(KF)\", \"(V)\", \"(FP)\", \"(CD)\", \"(VS)\",\n",
    "                             \"(KrF)\", \"(DR)\", \"(UP)\", \"(Grønl.)\", \"(Fær.)\"]\n",
    "    for index in range(len(indhold)):\n",
    "        sentence = indhold[index]\n",
    "        if len(re.findall(\"(^.{1,50} \\([A-Z]+\\)|^.{1,50} \\(KrF\\)|^.{1,50} \\(Grønl.\\)|^.{1,50} \\(Fær.\\))\", sentence)) > 0: #Tjekker om det er et menigt medlem\n",
    "            if len(re.findall(\"(\\([A-Z]+\\)|\\(KrF\\)|\\(Grønl.\\)|\\(Fær.\\))\", sentence)) < 2:\n",
    "                if len(re.findall(\"Ny stedf.\", sentence)) > 0:\n",
    "                    pass\n",
    "                elif len(re.findall(\"Udtræder:\", sentence)) > 0:\n",
    "                    pass\n",
    "                elif len(re.findall(\"Nyt medl\", sentence)) > 0:\n",
    "                    pass\n",
    "                elif len(re.findall(\" af\", sentence.lower())) > 0:\n",
    "                    pass\n",
    "                elif re.findall(\"(\\([A-Z]+\\)|\\(KrF\\)|\\(Grønl.\\)|\\(Fær.\\))\", sentence)[0] in Partier_i_folketinget:\n",
    "                    talere.append(sentence)\n",
    "                    parti.append(re.findall(\"(\\([A-Z]+\\)|\\(KrF\\)|\\(Grønl.\\)|\\(Fær.\\))\", sentence)[0])\n",
    "                    tale.append(\"\")\n",
    "                else:\n",
    "                    if len(tale) >= 1:\n",
    "                        tale[-1] = tale[-1] + \" \" + sentence\n",
    "            else: #ellers er det en tale\n",
    "                if len(tale) >= 1:\n",
    "                    tale[-1] = tale[-1] + \" \" + sentence\n",
    "                #if len(re.findall(\"(\\([A-Z]+\\)|\\(KrF\\))\", sentence)) < 2:\n",
    "        elif sentence.lower() == \"formanden\" or sentence.lower() == \"formanden:\": #tjekker om det er formanden der taler\n",
    "            talere.append(\"formanden\")\n",
    "            parti.append(\"Formanden\")\n",
    "            tale.append(\"\")\n",
    "        elif re.search(\"næstformand \\(\\w*\\):$\", sentence.lower()) or re.search(\"næstformand \\(\\w* \\w*\\):$\", sentence.lower()):\n",
    "            talere.append(sentence.lower())\n",
    "            parti.append(\"næstformanden\")\n",
    "            tale.append(\"\")\n",
    "        elif len(sentence) < 100: #Tjekker om det er en minister der taler\n",
    "            if len(re.findall(\"\\w*minister[\\w ]*\\(([\\w-]*|[\\w ]*)\\)\", sentence.lower())) > 0:\n",
    "                talere.append(sentence)\n",
    "                parti.append(\"Regeringen\")\n",
    "                tale.append(\"\")\n",
    "            else:\n",
    "                if len(tale) >= 1:\n",
    "                    tale[-1] = tale[-1] + \" \" + sentence\n",
    "        elif len(re.findall(\"[1-9]{1,5} [1-9]{1,2}/[1-9]{1,2}\", sentence.lower()))  > 0: #tilføjet til at fange headers på sider\n",
    "            if len(sentence) < 170:\n",
    "                pass\n",
    "            else:\n",
    "                if len(tale) >= 1:\n",
    "                    tale[-1] = tale[-1] + \" \" + sentence\n",
    "        elif len(re.findall(\"^[1-9]{1,2}/[1-9]{1,2}\", sentence.lower())) > 0: \n",
    "            if len(sentence) < 170:\n",
    "                pass\n",
    "            else:\n",
    "                if len(tale) >= 1:\n",
    "                    tale[-1] = tale[-1] + \" \" + sentence\n",
    "        elif re.fullmatch(\"\\[.{1,100}\\]\", sentence.lower()):\n",
    "            pass\n",
    "        elif re.fullmatch(\"[1-9]{1,10}\", sentence.lower()):\n",
    "            pass\n",
    "        else:\n",
    "            if len(tale) >= 1:\n",
    "                tale[-1] = tale[-1] + \" \" + sentence\n",
    "    return tale, talere, parti"
   ]
  },
  {
   "cell_type": "code",
   "execution_count": 70,
   "id": "b6641c6f",
   "metadata": {},
   "outputs": [],
   "source": [
    "Folketingsår_opdelt_per_taler_80erne = {}\n",
    "for år in Folketingstaler_i_80erne:\n",
    "    indhold = Folketingstaler_i_80erne[år]\n",
    "    år_tale, år_talere, år_parti = FT_taler(indhold)\n",
    "    Folketingsår_opdelt_per_taler_80erne[år] = []\n",
    "    Folketingsår_opdelt_per_taler_80erne[år].append(år_tale)\n",
    "    Folketingsår_opdelt_per_taler_80erne[år].append(år_talere)\n",
    "    Folketingsår_opdelt_per_taler_80erne[år].append(år_parti)"
   ]
  },
  {
   "cell_type": "code",
   "execution_count": 71,
   "id": "54e886de",
   "metadata": {},
   "outputs": [],
   "source": [
    "EU_ord = [\" eu \", \" ef \", \"europæiske fællesskab\", \"europæiske union\", \"fællesmarked\", \"ømu\", \" ef-\", \" eu-\",\n",
    "          \"europæiske samarbejde\", \"fællesakt\", \" ømu\", \"det indre marked\"]"
   ]
  },
  {
   "cell_type": "code",
   "execution_count": 72,
   "id": "da43753c",
   "metadata": {},
   "outputs": [],
   "source": [
    "eu_taler_80erne = {}\n",
    "for år in Folketingsår_opdelt_per_taler_80erne:\n",
    "    #start = time()\n",
    "    eu_tale_år = []\n",
    "    eu_parti_år = []\n",
    "    eu_taler_år = []\n",
    "    for index in range(len(Folketingsår_opdelt_per_taler_80erne[år][0])):\n",
    "        tale = Folketingsår_opdelt_per_taler_80erne[år][0][index]\n",
    "        for ord_ in EU_ord:\n",
    "            if len(re.findall(ord_, tale.lower())) > 0:\n",
    "                eu_tale_år.append(tale)\n",
    "                eu_taler_år.append(Folketingsår_opdelt_per_taler_80erne[år][1][index])\n",
    "                eu_parti_år.append(Folketingsår_opdelt_per_taler_80erne[år][2][index])\n",
    "                break\n",
    "    eu_taler_80erne[år] = []\n",
    "    eu_taler_80erne[år].append(eu_tale_år)\n",
    "    eu_taler_80erne[år].append(eu_parti_år)\n",
    "    eu_taler_80erne[år].append(eu_taler_år)\n",
    "    #slut = time()\n",
    "    #print(slut-start) til at time loopsne"
   ]
  },
  {
   "cell_type": "code",
   "execution_count": 73,
   "id": "6d187685",
   "metadata": {},
   "outputs": [
    {
     "name": "stdout",
     "output_type": "stream",
     "text": [
      "1980: 506\n",
      "1981: 594\n",
      "1982: 510\n",
      "1983: 527\n",
      "1984: 419\n",
      "1985: 863\n",
      "1986: 607\n",
      "1987: 671\n",
      "1988: 940\n",
      "1989: 999\n"
     ]
    }
   ],
   "source": [
    "for år in eu_taler_80erne:\n",
    "    print(f\"{år}: {len(eu_taler_80erne[år][0])}\")"
   ]
  },
  {
   "cell_type": "code",
   "execution_count": 74,
   "id": "77bb3ece",
   "metadata": {},
   "outputs": [],
   "source": [
    "antal_taler_år = [len(eu_taler_80erne[i][0]) for i in eu_taler_80erne]"
   ]
  },
  {
   "cell_type": "code",
   "execution_count": 75,
   "id": "324cb204",
   "metadata": {},
   "outputs": [
    {
     "data": {
      "text/plain": [
       "[506, 594, 510, 527, 419, 863, 607, 671, 940, 999]"
      ]
     },
     "execution_count": 75,
     "metadata": {},
     "output_type": "execute_result"
    }
   ],
   "source": [
    "antal_taler_år"
   ]
  },
  {
   "cell_type": "code",
   "execution_count": 76,
   "id": "c1ed9e92",
   "metadata": {},
   "outputs": [],
   "source": [
    "år_1980erne = [str(1980 + i) for i in range(10)]"
   ]
  },
  {
   "cell_type": "code",
   "execution_count": 78,
   "id": "41aa760a",
   "metadata": {},
   "outputs": [],
   "source": [
    "#år_1980erne"
   ]
  },
  {
   "cell_type": "code",
   "execution_count": 79,
   "id": "31509ed3",
   "metadata": {},
   "outputs": [],
   "source": [
    "Alle_taler = []\n",
    "Alle_taler_år = []\n",
    "Alle_taler_parti = []\n",
    "Alle_taler_taler = []\n",
    "for år in eu_taler_80erne:\n",
    "    for index in range(len(eu_taler_80erne[år][0])):\n",
    "        Alle_taler.append(eu_taler_80erne[år][0][index])\n",
    "        Alle_taler_parti.append(eu_taler_80erne[år][1][index])\n",
    "        Alle_taler_taler.append(eu_taler_80erne[år][2][index])\n",
    "        Alle_taler_år.append(år)"
   ]
  },
  {
   "cell_type": "code",
   "execution_count": 80,
   "id": "790b354f",
   "metadata": {},
   "outputs": [
    {
     "data": {
      "text/plain": [
       "6636"
      ]
     },
     "execution_count": 80,
     "metadata": {},
     "output_type": "execute_result"
    }
   ],
   "source": [
    "len(Alle_taler)"
   ]
  },
  {
   "cell_type": "markdown",
   "id": "34117b0c",
   "metadata": {},
   "source": [
    "## Klargøring af data"
   ]
  },
  {
   "cell_type": "code",
   "execution_count": 81,
   "id": "3f53afc2",
   "metadata": {},
   "outputs": [],
   "source": [
    "tekster_klar = []\n",
    "fyldetegn = [\",\", \".\", \"(\", \")\", \"?\", \"/\", \"!\", \":\", \" \", \"):\", \"-\", \"«\", \"»\", \"[\", \"]\"]\n",
    "stopord_fil = open('../../Folketingstidende/stopord.txt','r')\n",
    "stopord = [word[:-1] for word in stopord_fil]"
   ]
  },
  {
   "cell_type": "code",
   "execution_count": 82,
   "id": "d7cf75a7",
   "metadata": {},
   "outputs": [],
   "source": [
    "typer_spacy = []\n",
    "for tegn in fyldetegn:\n",
    "    tekst_nlpd = nlpd(tegn)\n",
    "    for token in tekst_nlpd:\n",
    "        if token.pos_ not in typer_spacy:\n",
    "            typer_spacy.append(token.pos_)"
   ]
  },
  {
   "cell_type": "code",
   "execution_count": 83,
   "id": "55dc47bd",
   "metadata": {},
   "outputs": [
    {
     "data": {
      "text/plain": [
       "['PUNCT', 'X', 'SPACE', 'NOUN', 'SYM']"
      ]
     },
     "execution_count": 83,
     "metadata": {},
     "output_type": "execute_result"
    }
   ],
   "source": [
    "typer_spacy"
   ]
  },
  {
   "cell_type": "code",
   "execution_count": 84,
   "id": "b55d4b74",
   "metadata": {},
   "outputs": [],
   "source": [
    "typer_spacy.remove(\"NOUN\")"
   ]
  },
  {
   "cell_type": "code",
   "execution_count": 85,
   "id": "2fb8a6d3",
   "metadata": {},
   "outputs": [],
   "source": [
    "for år in eu_taler_80erne:\n",
    "    #allowed_postags=['NOUN', 'ADJ', 'VERB']\n",
    "    start = time()\n",
    "    for tekst in eu_taler_80erne[år][0]:\n",
    "        tale_spacy = nlpd(tekst.lower())\n",
    "        #tokens = [str(token.lemma_).lower() for token in tale_spacy]\n",
    "        tokens = [token for token in tale_spacy]\n",
    "        tokens_uden_tegn = [str(token) for token in tokens if token.pos_ not in typer_spacy]\n",
    "        #tokens_uden_stopord = [token for token in tokens_uden_tegn if token not in stopord]\n",
    "        tekster_klar.append(tokens_uden_tegn)\n",
    "    end = time()\n",
    "    #print(end-start)"
   ]
  },
  {
   "cell_type": "code",
   "execution_count": 86,
   "id": "140e175e",
   "metadata": {},
   "outputs": [],
   "source": [
    "processed_data = []\n",
    "for tekst in tekster_klar:\n",
    "    str_tekst = [str(token) for token in tekst]\n",
    "    processed_data.append(str_tekst)"
   ]
  },
  {
   "cell_type": "code",
   "execution_count": 87,
   "id": "18842281",
   "metadata": {},
   "outputs": [
    {
     "data": {
      "text/plain": [
       "6636"
      ]
     },
     "execution_count": 87,
     "metadata": {},
     "output_type": "execute_result"
    }
   ],
   "source": [
    "len(processed_data)"
   ]
  },
  {
   "cell_type": "code",
   "execution_count": 88,
   "id": "6651d4b6",
   "metadata": {},
   "outputs": [],
   "source": [
    "bigram = gensim.models.Phrases(processed_data, min_count=5, threshold=100)\n",
    "\n",
    "trigram = gensim.models.Phrases(bigram[processed_data], threshold=100)\n",
    "\n",
    "bigram_mod = gensim.models.phrases.Phraser(bigram)\n",
    "\n",
    "trigram_mod = gensim.models.phrases.Phraser(trigram)"
   ]
  },
  {
   "cell_type": "code",
   "execution_count": 90,
   "id": "1145f86c",
   "metadata": {},
   "outputs": [],
   "source": [
    "def remove_stopwords(texts):\n",
    "    return [[word for word in doc if word not in stopord] for doc in texts]\n",
    "def create_bigrams(texts):\n",
    "    return [bigram_mod[doc] for doc in texts]\n",
    "def create_trigrams(texts):\n",
    "    [trigram_mod[bigram_mod[doc]] for doc in texts]\n",
    "def lemmatize(texts, allowed_postags=[ 'NOUN', 'ADJ', 'VERB', 'PROPN']):\n",
    "    texts_op = []\n",
    "    start = time()\n",
    "    for sent in texts:\n",
    "        doc = nlpd(\" \".join(sent))\n",
    "        texts_op.append([token.lemma_ for token in doc if token.pos_ in allowed_postags])\n",
    "    end = time()\n",
    "    #print(end-start)\n",
    "    return texts_op"
   ]
  },
  {
   "cell_type": "code",
   "execution_count": 91,
   "id": "61c33fa4",
   "metadata": {},
   "outputs": [],
   "source": [
    "#removing stopwords, creating bigrams and lemmatizing the text\n",
    "\n",
    "data_wo_stopwords = remove_stopwords(processed_data)\n",
    "\n",
    "data_bigrams = create_bigrams(data_wo_stopwords)\n",
    "\n",
    "data_lemmatized = lemmatize(data_bigrams, allowed_postags=['NOUN', 'ADJ', 'VERB', 'PROPN', 'ADV'])\n",
    "\n",
    "stopwords_removed_2 = remove_stopwords(data_lemmatized) #Jeg prøver at sortere stopord fra igen\n",
    "\n",
    "#shuffle(stopwords_removed_2)\n",
    "\n",
    "data_lemmatized = stopwords_removed_2"
   ]
  },
  {
   "cell_type": "code",
   "execution_count": 92,
   "id": "fa283c4b",
   "metadata": {},
   "outputs": [],
   "source": [
    "#gensim_dictionary = corpora.Dictionary(data_lemmatized) #uden shuffle\n",
    "\n",
    "#texts = data_lemmatized\n",
    "\n",
    "#gensim_corpus_ikke_random = [gensim_dictionary.doc2bow(text) for text in texts] #uden_shuffle"
   ]
  },
  {
   "cell_type": "code",
   "execution_count": 93,
   "id": "3480d0c4",
   "metadata": {},
   "outputs": [
    {
     "data": {
      "text/plain": [
       "6636"
      ]
     },
     "execution_count": 93,
     "metadata": {},
     "output_type": "execute_result"
    }
   ],
   "source": [
    "len(data_lemmatized)"
   ]
  },
  {
   "cell_type": "code",
   "execution_count": 94,
   "id": "f6e008fb",
   "metadata": {},
   "outputs": [],
   "source": [
    "#gensim_dictionary = corpora.Dictionary(data_lemmatized)\n",
    "\n",
    "texts = [text for text in data_lemmatized]\n",
    "\n",
    "shuffle(texts)\n",
    "\n",
    "gensim_dictionary = corpora.Dictionary(texts)\n",
    "\n",
    "gensim_corpus = [gensim_dictionary.doc2bow(text) for text in texts]"
   ]
  },
  {
   "cell_type": "code",
   "execution_count": 95,
   "id": "d62a547a",
   "metadata": {},
   "outputs": [],
   "source": [
    "#gensim_dictionary.save(\"Dictionaries/1980_erne/LDA_1980_21_topics_simple_02_10_22_nummer_4_ikke_afgift_dictionary\")"
   ]
  },
  {
   "cell_type": "code",
   "execution_count": 96,
   "id": "d1fbec88",
   "metadata": {},
   "outputs": [],
   "source": [
    "gensim_dictionary = corpora.Dictionary.load(\"Dictionaries/1980_erne/LDA_1980_23_topics_simple_02_10_22_nummer_2_bedre_dictionary\")"
   ]
  },
  {
   "cell_type": "code",
   "execution_count": 199,
   "id": "67a2dd4a",
   "metadata": {},
   "outputs": [],
   "source": [
    "#gensim_dictionary.save(\"Dictionaries/Dictionaries_opgaven/1980_erne\")"
   ]
  },
  {
   "cell_type": "code",
   "execution_count": 26,
   "id": "0fbbabef",
   "metadata": {},
   "outputs": [],
   "source": [
    "#shuffle(gensim_corpus)"
   ]
  },
  {
   "cell_type": "code",
   "execution_count": 97,
   "id": "2fb1c34d",
   "metadata": {},
   "outputs": [],
   "source": [
    "gensim_corpus_ikke_random = [gensim_dictionary.doc2bow(text) for text in data_lemmatized]"
   ]
  },
  {
   "cell_type": "markdown",
   "id": "4db486f0",
   "metadata": {},
   "source": [
    "## Coherence model"
   ]
  },
  {
   "cell_type": "markdown",
   "id": "bfa9a9c9",
   "metadata": {},
   "source": [
    "Evaluering af bedste model"
   ]
  },
  {
   "cell_type": "code",
   "execution_count": 98,
   "id": "c1f5ebe1",
   "metadata": {},
   "outputs": [],
   "source": [
    "def compute_coherence_values(k):\n",
    "    lda_model = gensim.models.ldamodel.LdaModel(corpus=gensim_corpus,\n",
    "                                           id2word=gensim_dictionary,\n",
    "                                           num_topics=k, \n",
    "                                           random_state=100,\n",
    "                                           chunksize=100,\n",
    "                                           passes=10,\n",
    "                                           alpha=\"auto\")\n",
    "    \n",
    "    coherence_model_lda = CoherenceModel(model=lda_model, texts=data_lemmatized, dictionary=gensim_dictionary, coherence='c_v')\n",
    "    return coherence_model_lda.get_coherence()"
   ]
  },
  {
   "cell_type": "code",
   "execution_count": 99,
   "id": "2ebed96c",
   "metadata": {},
   "outputs": [],
   "source": [
    "# Topics range\n",
    "#min_topics = 17\n",
    "#max_topics = 25\n",
    "#step_size = 1\n",
    "#topics_range = range(min_topics, max_topics, step_size)\n",
    "\n",
    "#empty dataframe\n",
    "#model_results = {'Topics': [],\n",
    "#                 'Coherence': []\n",
    "#                }\n",
    "\n",
    "# iterate through number of topics\n",
    "#for k in topics_range:\n",
    "#    print(k)\n",
    "#    # get the coherence score for the given topics\n",
    "#    cv = compute_coherence_values(k=k)\n",
    "#    # Save the model results\n",
    "#    model_results['Topics'].append(k)\n",
    "#    model_results['Coherence'].append(cv)"
   ]
  },
  {
   "cell_type": "code",
   "execution_count": 100,
   "id": "f1990615",
   "metadata": {},
   "outputs": [],
   "source": [
    "#fig, ax = plt.subplots()\n",
    "#ax.plot(model_results[\"Topics\"], model_results['Coherence'])\n",
    "#ax.set_title(\"Simple model\")"
   ]
  },
  {
   "cell_type": "code",
   "execution_count": 101,
   "id": "d544ec23",
   "metadata": {},
   "outputs": [],
   "source": [
    "#model_results['Coherence'].index(max(model_results['Coherence']))"
   ]
  },
  {
   "cell_type": "code",
   "execution_count": 102,
   "id": "638070cf",
   "metadata": {},
   "outputs": [],
   "source": [
    "#max(model_results['Coherence'])"
   ]
  },
  {
   "cell_type": "code",
   "execution_count": 103,
   "id": "42b91dcc",
   "metadata": {},
   "outputs": [],
   "source": [
    "#lda_model = gensim.models.ldamodel.LdaModel(corpus = gensim_corpus,\n",
    "#                                            id2word = gensim_dictionary,\n",
    "#                                            num_topics = 19,\n",
    "#                                            random_state = 100,\n",
    "#                                            update_every = 1,\n",
    "#                                            chunksize = 100,\n",
    "#                                            passes = 10,\n",
    "#                                            alpha = \"auto\",\n",
    "#                                            )"
   ]
  },
  {
   "cell_type": "markdown",
   "id": "ebf549c8",
   "metadata": {},
   "source": [
    "Jeg gemmer nu denne topic model."
   ]
  },
  {
   "cell_type": "code",
   "execution_count": 104,
   "id": "71334842",
   "metadata": {},
   "outputs": [],
   "source": [
    "#temp_file = datapath(\"LDA_1980_22_topics_simple_30_09_22_med_adv_random\")\n",
    "#lda_model.save(temp_file) #den er gemt en enkelt gang"
   ]
  },
  {
   "cell_type": "code",
   "execution_count": 105,
   "id": "ae578151",
   "metadata": {},
   "outputs": [],
   "source": [
    "#\"LDA_1980_23_topics_simple_30_09_22_med_adv_random\""
   ]
  },
  {
   "cell_type": "code",
   "execution_count": 106,
   "id": "02cf1a2d",
   "metadata": {},
   "outputs": [],
   "source": [
    "lda_model = models.ldamodel.LdaModel.load(\"Modeller/1980_erne/LDA_1980_23_topics_simple_02_10_22_nummer_2_bedre\")"
   ]
  },
  {
   "cell_type": "code",
   "execution_count": 107,
   "id": "99788513",
   "metadata": {},
   "outputs": [
    {
     "name": "stdout",
     "output_type": "stream",
     "text": [
      "[(0,\n",
      "  '0.038*\"redegørelse\" + 0.021*\"område\" + 0.017*\"forskning\" + 0.017*\"mulighed\" '\n",
      "  '+ 0.016*\"behov\" + 0.016*\"støtte\" + 0.015*\"indsats\" + 0.014*\"projekt\" + '\n",
      "  '0.013*\"yde\" + 0.012*\"kvinde\"'),\n",
      " (1,\n",
      "  '0.069*\"udenrigsminister\" + 0.047*\"sovjetunionen\" + 0.030*\"sydafrika\" + '\n",
      "  '0.024*\"sanktion\" + 0.022*\"pol\" + 0.021*\"fn\" + 0.019*\"støtte\" + 0.018*\"vest\" '\n",
      "  '+ 0.018*\"situation\" + 0.018*\"usa\"'),\n",
      " (2,\n",
      "  '0.020*\"regering\" + 0.017*\"danmark\" + 0.015*\"spørgsmål\" + 0.013*\"ef\" + '\n",
      "  '0.012*\"give\" + 0.012*\"folketing\" + 0.011*\"ønske\" + 0.011*\"land\" + '\n",
      "  '0.010*\"dag\" + 0.009*\"side\"'),\n",
      " (3,\n",
      "  '0.049*\"land\" + 0.048*\"samarbejde\" + 0.035*\"udvikling\" + 0.017*\"arbejde\" + '\n",
      "  '0.015*\"danmark\" + 0.013*\"europa\" + 0.012*\"område\" + 0.010*\"år\" + '\n",
      "  '0.010*\"østeuropa\" + 0.010*\"initiativ\"'),\n",
      " (4,\n",
      "  '0.095*\"grønland\" + 0.054*\"fiskeri\" + 0.024*\"færøerne\" + 0.022*\"fisker\" + '\n",
      "  '0.021*\"kvote\" + 0.020*\"fiskeriminister\" + 0.019*\"bemyndigelse\" + 0.017*\"ef\" '\n",
      "  '+ 0.017*\"grønlands\" + 0.016*\"tredjeland\"'),\n",
      " (5,\n",
      "  '0.028*\"gå\" + 0.025*\"minister\" + 0.021*\"gerne\" + 0.021*\"tro\" + 0.021*\"altså\" '\n",
      "  '+ 0.020*\"ting\" + 0.019*\"hr.\" + 0.017*\"mene\" + 0.016*\"selvfølgelig\" + '\n",
      "  '0.014*\"gang\"'),\n",
      " (6,\n",
      "  '0.044*\"skrivelse\" + 0.044*\"afstemning\" + 0.042*\"sluttede_forhandlingen\" + '\n",
      "  '0.029*\"overgang\" + 0.028*\"stedfortræder\" + 0.028*\"behandling_vedtoges\" + '\n",
      "  '0.024*\"afstemning_lovforslagets\" + 0.021*\"vedtoges\" + 0.017*\"valg\" + '\n",
      "  '0.015*\"jf.\"'),\n",
      " (7,\n",
      "  '0.112*\"finanslov\" + 0.103*\"kr.\" + 0.067*\"mill._kr\" + 0.047*\"kommune\" + '\n",
      "  '0.047*\"mia_kr\" + 0.036*\"stat\" + 0.035*\"udgift\" + 0.035*\"finanslovforslag\" + '\n",
      "  '0.033*\"finansminister\" + 0.029*\"tilskud\"'),\n",
      " (8,\n",
      "  '0.465*\"hr.\" + 0.050*\"gade\" + 0.029*\"nørgaard\" + 0.021*\"bemærkning\" + '\n",
      "  '0.016*\"petersen\" + 0.015*\"steen_folke\" + 0.015*\"knud_lind\" + '\n",
      "  '0.014*\"nielsen\" + 0.013*\"kent_kirk\" + 0.013*\"dohrmann\"'),\n",
      " (9,\n",
      "  '0.214*\"afgift\" + 0.092*\"bil\" + 0.072*\"skatteminister\" + 0.047*\"statsborger\" '\n",
      "  '+ 0.034*\"trafik\" + 0.033*\"moms\" + 0.019*\"køre\" + 0.019*\"oppe\" + '\n",
      "  '0.016*\"duetoft\" + 0.016*\"spor\"'),\n",
      " (10,\n",
      "  '0.176*\"forslag\" + 0.029*\"ændringsforslag\" + 0.029*\"udvalg\" + 0.026*\"f._t\" + '\n",
      "  '0.023*\"behandling\" + 0.018*\"støtte\" + 0.018*\"sf\" + 0.017*\"beh.\" + '\n",
      "  '0.017*\"fremsætte\" + 0.015*\"benzin\"'),\n",
      " (11,\n",
      "  '0.036*\"år\" + 0.014*\"regering\" + 0.010*\"gennemføre\" + 0.010*\"stige\" + '\n",
      "  '0.010*\"samle\" + 0.009*\"mia._kr\" + 0.008*\"samfund\" + 0.008*\"del\" + '\n",
      "  '0.008*\"investering\" + 0.008*\"udgift\"'),\n",
      " (12,\n",
      "  '0.096*\"udenrigsminister\" + 0.061*\"kommission\" + 0.042*\"parlament\" + '\n",
      "  '0.029*\"markedsudvalget\" + 0.029*\"union\" + 0.024*\"traktat\" + '\n",
      "  '0.024*\"statsminister\" + 0.023*\"formandskab\" + 0.023*\"ef-pakken\" + '\n",
      "  '0.023*\"ministerråd\"'),\n",
      " (13,\n",
      "  '0.024*\"jylland\" + 0.020*\"hører_hjemme\" + 0.014*\"afslag\" + 0.012*\"dræning\" + '\n",
      "  '0.011*\"simonsen\" + 0.007*\"strandeng\" + 0.005*\"grønbog\" + '\n",
      "  '0.003*\"danmarks_naturfredningsforening\" + 0.003*\"ef-kommissio-_nens\" + '\n",
      "  '0.002*\"pilotprojekt\"'),\n",
      " (14,\n",
      "  '0.110*\"minister\" + 0.095*\"spørgsmål\" + 0.069*\"begrundelse\" + 0.059*\"svar\" + '\n",
      "  '0.055*\"s\" + 0.044*\"oplyse\" + 0.039*\"spm._nr\" + 0.033*\"skriftligt_besvarede\" '\n",
      "  '+ 0.023*\"besvarelse\" + 0.021*\"»\"'),\n",
      " (15,\n",
      "  '0.298*\"landbrug\" + 0.099*\"landmand\" + 0.076*\"landbrugsminister\" + '\n",
      "  '0.037*\"produktion\" + 0.034*\"erhverv\" + 0.029*\"landbrugspolitik\" + '\n",
      "  '0.012*\"bedrift\" + 0.012*\"strukturudvikling\" + 0.012*\"landbrugsproduktion\" + '\n",
      "  '0.011*\"rønholt\"'),\n",
      " (16,\n",
      "  '0.089*\"miljøminister\" + 0.053*\"miljø\" + 0.040*\"forurening\" + 0.022*\"affald\" '\n",
      "  '+ 0.020*\"dorte_bennedsen\" + 0.019*\"handlingsplan\" + 0.018*\"stålvalseværk\" + '\n",
      "  '0.017*\"natur\" + 0.016*\"industri\" + 0.016*\"miljøpolitik\"'),\n",
      " (17,\n",
      "  '0.144*\"virksomhed\" + 0.053*\"erhvervsliv\" + 0.042*\"marked\" + '\n",
      "  '0.031*\"industriminister\" + 0.028*\"forbruger\" + 0.026*\"selskab\" + '\n",
      "  '0.022*\"eksport\" + 0.021*\"produkt\" + 0.016*\"konkurrence\" + 0.015*\"skib\"'),\n",
      " (18,\n",
      "  '0.118*\"stof\" + 0.039*\"arbejdsminister\" + 0.039*\"arbejdstilsyn\" + '\n",
      "  '0.037*\"arbejdsmiljø\" + 0.026*\"mærkning\" + 0.023*\"produkt\" + 0.018*\"ton\" + '\n",
      "  '0.015*\"egn\" + 0.015*\"formel\" + 0.014*\"asbest\"'),\n",
      " (19,\n",
      "  '0.157*\"lovforslag\" + 0.130*\"lov\" + 0.085*\"forslag\" + 0.074*\"ændring\" + '\n",
      "  '0.049*\"nr.\" + 0.032*\"fremsætte\" + 0.028*\"behandling\" + 0.018*\"folketing\" + '\n",
      "  '0.016*\"foreslå\" + 0.015*\"m.v.\"'),\n",
      " (20,\n",
      "  '0.050*\"regel\" + 0.021*\"gælde\" + 0.018*\"bestemmelse\" + 0.017*\"direktiv\" + '\n",
      "  '0.016*\"lovgivning\" + 0.014*\"forbindelse\" + 0.013*\"gennemføre\" + '\n",
      "  '0.013*\"omfatte\" + 0.012*\"indeholde\" + 0.012*\"fastsætte\"'),\n",
      " (21,\n",
      "  '0.052*\"økonomiminister\" + 0.032*\"trafikminister\" + 0.022*\"bilgrav-nielsen\" '\n",
      "  '+ 0.019*\"afgiftsharmonisering\" + 0.017*\"ligegyldig\" + 0.012*\"hæftede_mig\" + '\n",
      "  '0.010*\"østrig\" + 0.010*\"risgaard_knudsen\" + 0.010*\"ef-retten\" + '\n",
      "  '0.009*\"hovedproblem\"'),\n",
      " (22,\n",
      "  '0.117*\"regering\" + 0.054*\"politik\" + 0.047*\"statsminister\" + '\n",
      "  '0.035*\"socialdemokrati\" + 0.020*\"år\" + 0.017*\"parti\" + 0.017*\"samfund\" + '\n",
      "  '0.013*\"situation\" + 0.013*\"føre\" + 0.013*\"arbejdsløshed\"')]\n"
     ]
    }
   ],
   "source": [
    "pprint(lda_model.show_topics(-1))"
   ]
  },
  {
   "cell_type": "code",
   "execution_count": 198,
   "id": "c583f58f",
   "metadata": {},
   "outputs": [],
   "source": [
    "lda_model.save(\"Modeller/Modeller_til_opgaven/Model_1980\")"
   ]
  },
  {
   "cell_type": "markdown",
   "id": "0bd793af",
   "metadata": {},
   "source": [
    "## Tildeling af emne til tekster"
   ]
  },
  {
   "cell_type": "code",
   "execution_count": 108,
   "id": "ee2bcb4b",
   "metadata": {},
   "outputs": [],
   "source": [
    "topics = []\n",
    "for index in range(len(data_lemmatized)):\n",
    "    sand_top = 0\n",
    "    best_topic = 0\n",
    "    bow = gensim_dictionary.doc2bow(data_lemmatized[index])\n",
    "    eu_tale_topic_distribution = lda_model.get_document_topics(bow)\n",
    "    for topic, sand in eu_tale_topic_distribution:\n",
    "        if sand > sand_top:\n",
    "            sand_top = sand\n",
    "            best_topic = topic\n",
    "    topics.append(best_topic)"
   ]
  },
  {
   "cell_type": "code",
   "execution_count": 109,
   "id": "63965cf6",
   "metadata": {},
   "outputs": [],
   "source": [
    "def count_topics(topics, antal_topics):\n",
    "    forskellige_topics = [i for i in range(antal_topics)]\n",
    "    antal_af_hver_topic = [0 for i in range(antal_topics)]\n",
    "    for topic in topics:\n",
    "        antal_af_hver_topic[topic] += 1\n",
    "    return [forskellige_topics, antal_af_hver_topic]"
   ]
  },
  {
   "cell_type": "code",
   "execution_count": 110,
   "id": "0baa34e9",
   "metadata": {},
   "outputs": [],
   "source": [
    "resultat = count_topics(topics, 23)"
   ]
  },
  {
   "cell_type": "code",
   "execution_count": 111,
   "id": "85ea5550",
   "metadata": {},
   "outputs": [],
   "source": [
    "#for topic in resultat[0]:\n",
    "#    print(f\"Topic {topic}: {resultat[1][topic]}\")"
   ]
  },
  {
   "cell_type": "markdown",
   "id": "9134d997",
   "metadata": {},
   "source": [
    "### Undersøgelse af topic 1: "
   ]
  },
  {
   "cell_type": "code",
   "execution_count": 113,
   "id": "60502570",
   "metadata": {},
   "outputs": [],
   "source": [
    "topics_1 = []\n",
    "topics_1_sand = []\n",
    "for index in range(len(data_lemmatized)):\n",
    "    sand_top = 0\n",
    "    best_topic = 0\n",
    "    bow = gensim_dictionary.doc2bow(data_lemmatized[index])\n",
    "    eu_tale_topic_distribution = lda_model.get_document_topics(bow)\n",
    "    for topic, sand in eu_tale_topic_distribution:\n",
    "        if topic == 1:\n",
    "            topics_1.append(index)\n",
    "            topics_1_sand.append(sand)\n",
    "\n",
    "            topics.append(best_topic)"
   ]
  },
  {
   "cell_type": "code",
   "execution_count": 114,
   "id": "b2f10b73",
   "metadata": {},
   "outputs": [],
   "source": [
    "#topics_1"
   ]
  },
  {
   "cell_type": "code",
   "execution_count": 197,
   "id": "8dacd899",
   "metadata": {},
   "outputs": [
    {
     "name": "stdout",
     "output_type": "stream",
     "text": [
      "Lone Dybkjær (RV):\n",
      "(RV)\n",
      "1986\n"
     ]
    }
   ],
   "source": [
    "print(Alle_taler_taler[3687])\n",
    "print(Alle_taler_parti[3687])\n",
    "print(Alle_taler_år[3687])\n",
    "#Alle_taler[3687]"
   ]
  },
  {
   "cell_type": "markdown",
   "id": "97c9d154",
   "metadata": {},
   "source": [
    "## Generelt semantically opague:\n",
    "Topics 13 og 21:"
   ]
  },
  {
   "cell_type": "markdown",
   "id": "158996ed",
   "metadata": {},
   "source": [
    "### Topic 13"
   ]
  },
  {
   "cell_type": "code",
   "execution_count": 116,
   "id": "6b386f2a",
   "metadata": {},
   "outputs": [
    {
     "data": {
      "text/plain": [
       "47"
      ]
     },
     "execution_count": 116,
     "metadata": {},
     "output_type": "execute_result"
    }
   ],
   "source": [
    "topics_13 = []\n",
    "topics_13_sand = []\n",
    "for index in range(len(data_lemmatized)):\n",
    "    bow = gensim_dictionary.doc2bow(data_lemmatized[index])\n",
    "    eu_tale_topic_distribution = lda_model.get_document_topics(bow)\n",
    "    for topic, sand in eu_tale_topic_distribution:\n",
    "        if topic == 13:\n",
    "            topics_13.append(index)\n",
    "            topics_13_sand.append(sand)\n",
    "    topics.append(best_topic)\n",
    "len(topics_13)"
   ]
  },
  {
   "cell_type": "code",
   "execution_count": 117,
   "id": "697769e6",
   "metadata": {},
   "outputs": [
    {
     "data": {
      "text/plain": [
       "0"
      ]
     },
     "execution_count": 117,
     "metadata": {},
     "output_type": "execute_result"
    }
   ],
   "source": [
    "topics_13_høj_sand = [topics_13[i] for i in range(len(topics_13)) if topics_13_sand[i]>0.05]\n",
    "len(topics_13_høj_sand)"
   ]
  },
  {
   "cell_type": "code",
   "execution_count": 118,
   "id": "fc8944c4",
   "metadata": {},
   "outputs": [],
   "source": [
    "#random_tal= randint(0, len(topics_13_høj_sand)-1)\n",
    "#random_index = topics_13_høj_sand[random_tal]\n",
    "#print(Alle_taler_år[random_index])\n",
    "#print(Alle_taler_taler[random_index])\n",
    "#print(Alle_taler_parti[random_index])\n",
    "#print(Alle_taler[random_index])"
   ]
  },
  {
   "cell_type": "markdown",
   "id": "38cbce7b",
   "metadata": {},
   "source": [
    "### Topic 21:"
   ]
  },
  {
   "cell_type": "code",
   "execution_count": 119,
   "id": "c5a89989",
   "metadata": {},
   "outputs": [
    {
     "data": {
      "text/plain": [
       "185"
      ]
     },
     "execution_count": 119,
     "metadata": {},
     "output_type": "execute_result"
    }
   ],
   "source": [
    "topics_21 = []\n",
    "topics_21_sand = []\n",
    "for index in range(len(gensim_corpus)):\n",
    "    bow = gensim_dictionary.doc2bow(data_lemmatized[index])\n",
    "    eu_tale_topic_distribution = lda_model.get_document_topics(bow)\n",
    "    for topic, sand in eu_tale_topic_distribution:\n",
    "        if topic == 21:\n",
    "            topics_21.append(index)\n",
    "            topics_21_sand.append(sand)\n",
    "    topics.append(best_topic)\n",
    "len(topics_21)"
   ]
  },
  {
   "cell_type": "code",
   "execution_count": 120,
   "id": "5ab52b74",
   "metadata": {},
   "outputs": [
    {
     "data": {
      "text/plain": [
       "13"
      ]
     },
     "execution_count": 120,
     "metadata": {},
     "output_type": "execute_result"
    }
   ],
   "source": [
    "topics_21_høj_sand = [topics_21[i] for i in range(len(topics_21)) if topics_21_sand[i]>0.05]\n",
    "len(topics_21_høj_sand)"
   ]
  },
  {
   "cell_type": "code",
   "execution_count": 196,
   "id": "d0ae9eda",
   "metadata": {},
   "outputs": [
    {
     "name": "stdout",
     "output_type": "stream",
     "text": [
      "1986\n",
      "Tinning (VS):\n",
      "(VS)\n"
     ]
    }
   ],
   "source": [
    "random_tal= randint(0, len(topics_21_høj_sand)-1)\n",
    "random_index = topics_21_høj_sand[random_tal]\n",
    "print(Alle_taler_år[random_index])\n",
    "print(Alle_taler_taler[random_index])\n",
    "print(Alle_taler_parti[random_index])\n",
    "#print(Alle_taler[random_index])"
   ]
  },
  {
   "cell_type": "markdown",
   "id": "dcd8ed3c",
   "metadata": {},
   "source": [
    "### Fiskeri og Grønland"
   ]
  },
  {
   "cell_type": "code",
   "execution_count": 122,
   "id": "9409f00c",
   "metadata": {},
   "outputs": [],
   "source": [
    "topics_fiskeri = []\n",
    "topics_fiskeri_sand = []\n",
    "for index in range(len(Alle_taler)):\n",
    "    sand_top = 0\n",
    "    best_topic = 0\n",
    "    eu_tale_topic_distribution = lda_model.get_document_topics(gensim_dictionary.doc2bow(data_lemmatized[index]))\n",
    "    for topic, sand in eu_tale_topic_distribution:\n",
    "        if topic == 4:\n",
    "            topics_fiskeri.append(index)\n",
    "            topics_fiskeri_sand.append(sand)"
   ]
  },
  {
   "cell_type": "code",
   "execution_count": 123,
   "id": "56b12d0e",
   "metadata": {},
   "outputs": [
    {
     "data": {
      "text/plain": [
       "1120"
      ]
     },
     "execution_count": 123,
     "metadata": {},
     "output_type": "execute_result"
    }
   ],
   "source": [
    "len(topics_fiskeri_sand)"
   ]
  },
  {
   "cell_type": "code",
   "execution_count": 126,
   "id": "b8f910d4",
   "metadata": {},
   "outputs": [
    {
     "data": {
      "text/plain": [
       "838"
      ]
     },
     "execution_count": 126,
     "metadata": {},
     "output_type": "execute_result"
    }
   ],
   "source": [
    "topics_fiskeri_sand.index(min(topics_fiskeri_sand))"
   ]
  },
  {
   "cell_type": "code",
   "execution_count": 127,
   "id": "bf646aee",
   "metadata": {},
   "outputs": [],
   "source": [
    "topics_fiskeri_høj_sand = [topics_fiskeri[i] for i in range(len(topics_fiskeri)) if topics_fiskeri_sand[i]>0.1]"
   ]
  },
  {
   "cell_type": "code",
   "execution_count": 128,
   "id": "d536260c",
   "metadata": {},
   "outputs": [
    {
     "data": {
      "text/plain": [
       "201"
      ]
     },
     "execution_count": 128,
     "metadata": {},
     "output_type": "execute_result"
    }
   ],
   "source": [
    "len(topics_fiskeri_høj_sand)"
   ]
  },
  {
   "cell_type": "code",
   "execution_count": 129,
   "id": "2d86245b",
   "metadata": {},
   "outputs": [
    {
     "data": {
      "text/plain": [
       "201"
      ]
     },
     "execution_count": 129,
     "metadata": {},
     "output_type": "execute_result"
    }
   ],
   "source": [
    "len(topics_fiskeri_høj_sand)"
   ]
  },
  {
   "cell_type": "code",
   "execution_count": 130,
   "id": "a4417547",
   "metadata": {},
   "outputs": [],
   "source": [
    "fiskeri_ef_år = [Alle_taler_år[index] for index in topics_fiskeri]"
   ]
  },
  {
   "cell_type": "code",
   "execution_count": 131,
   "id": "c49bd7ed",
   "metadata": {},
   "outputs": [
    {
     "data": {
      "text/plain": [
       "['1980',\n",
       " '1981',\n",
       " '1982',\n",
       " '1983',\n",
       " '1984',\n",
       " '1985',\n",
       " '1986',\n",
       " '1987',\n",
       " '1988',\n",
       " '1989']"
      ]
     },
     "execution_count": 131,
     "metadata": {},
     "output_type": "execute_result"
    }
   ],
   "source": [
    "år_1980erne = list(set(fiskeri_ef_år))\n",
    "år_1980erne.sort()\n",
    "år_1980erne"
   ]
  },
  {
   "cell_type": "code",
   "execution_count": 132,
   "id": "947116a1",
   "metadata": {},
   "outputs": [],
   "source": [
    "folketingsår = [str(80 + i) + \"/\" + str(80 + i + 1) for i in range(10)]"
   ]
  },
  {
   "cell_type": "code",
   "execution_count": 133,
   "id": "7af3cd39",
   "metadata": {},
   "outputs": [
    {
     "data": {
      "text/plain": [
       "['80/81',\n",
       " '81/82',\n",
       " '82/83',\n",
       " '83/84',\n",
       " '84/85',\n",
       " '85/86',\n",
       " '86/87',\n",
       " '87/88',\n",
       " '88/89',\n",
       " '89/90']"
      ]
     },
     "execution_count": 133,
     "metadata": {},
     "output_type": "execute_result"
    }
   ],
   "source": [
    "folketingsår"
   ]
  },
  {
   "cell_type": "code",
   "execution_count": 134,
   "id": "03059826",
   "metadata": {},
   "outputs": [],
   "source": [
    "antal_taler_1980eren_fiskeri = []\n",
    "for år in år_1980erne:\n",
    "    antal_taler_1980eren_fiskeri.append(fiskeri_ef_år.count(år))"
   ]
  },
  {
   "cell_type": "code",
   "execution_count": 135,
   "id": "1db64cdd",
   "metadata": {},
   "outputs": [
    {
     "data": {
      "text/plain": [
       "[110, 153, 92, 142, 58, 102, 96, 113, 114, 140]"
      ]
     },
     "execution_count": 135,
     "metadata": {},
     "output_type": "execute_result"
    }
   ],
   "source": [
    "antal_taler_1980eren_fiskeri"
   ]
  },
  {
   "cell_type": "code",
   "execution_count": 136,
   "id": "32623b72",
   "metadata": {},
   "outputs": [],
   "source": [
    "fiskeri_andel = [antal_taler_1980eren_fiskeri[i]/antal_taler_år[i] for i in range(10)]"
   ]
  },
  {
   "cell_type": "code",
   "execution_count": 137,
   "id": "8ab6a90a",
   "metadata": {},
   "outputs": [
    {
     "data": {
      "image/png": "[encoded data removed]",
      "text/plain": [
       "<Figure size 640x480 with 2 Axes>"
      ]
     },
     "metadata": {},
     "output_type": "display_data"
    }
   ],
   "source": [
    "fig, (ax1, ax2) = plt.subplots(2, 1)\n",
    "ax1.set_title(\"Andel af ft-taler der nævner EF relateret til topic 4(Fiskeri)\")\n",
    "ax1.plot(folketingsår, fiskeri_andel)\n",
    "ax1.set_ylim([0, 0.3])\n",
    "ax2.set_title(\"Antal af ft-taler der nævner EF relateret til topic 4(Fiskeri)\")\n",
    "ax2.bar(folketingsår, antal_taler_1980eren_fiskeri)\n",
    "fig.tight_layout(pad=1.0)\n",
    "#fig.savefig(\"plots/1980_erne/Andel_af_folketingstaler_der_nævner_EF relateret_til_topic_4\")"
   ]
  },
  {
   "cell_type": "markdown",
   "id": "25d5ded9",
   "metadata": {},
   "source": [
    "### Grønland 1986/1987"
   ]
  },
  {
   "cell_type": "code",
   "execution_count": 139,
   "id": "c8dd0619",
   "metadata": {},
   "outputs": [],
   "source": [
    "Grønland_taler_høj_1986 = [i for i in topics_fiskeri_høj_sand if Alle_taler_år[i] == \"1986\"]"
   ]
  },
  {
   "cell_type": "code",
   "execution_count": 140,
   "id": "57ce628d",
   "metadata": {},
   "outputs": [
    {
     "data": {
      "text/plain": [
       "16"
      ]
     },
     "execution_count": 140,
     "metadata": {},
     "output_type": "execute_result"
    }
   ],
   "source": [
    "len(Grønland_taler_høj_1986)"
   ]
  },
  {
   "cell_type": "code",
   "execution_count": 141,
   "id": "c45291f1",
   "metadata": {},
   "outputs": [
    {
     "name": "stdout",
     "output_type": "stream",
     "text": [
      "1986\n",
      "(S)\n",
      "Arne Jensen (S):\n"
     ]
    }
   ],
   "source": [
    "random_tal= randint(0, len(Grønland_taler_høj_1986))\n",
    "random_index = Grønland_taler_høj_1986[random_tal]\n",
    "print(Alle_taler_år[random_index])\n",
    "print(Alle_taler_parti[random_index])\n",
    "print(Alle_taler_taler[random_index])\n",
    "#print(Alle_taler[random_index])"
   ]
  },
  {
   "cell_type": "markdown",
   "id": "18371ba4",
   "metadata": {},
   "source": [
    "## Miljø"
   ]
  },
  {
   "cell_type": "code",
   "execution_count": 142,
   "id": "ae07dd39",
   "metadata": {},
   "outputs": [],
   "source": [
    "topics_miljø = []\n",
    "topics_miljø_sand = []\n",
    "for index in range(len(data_lemmatized)):\n",
    "    bow = gensim_dictionary.doc2bow(data_lemmatized[index])\n",
    "    eu_tale_topic_distribution = lda_model.get_document_topics(bow)\n",
    "    for topic, sand in eu_tale_topic_distribution:\n",
    "        if topic == 16:\n",
    "            topics_miljø.append(index)\n",
    "            topics_miljø_sand.append(sand)"
   ]
  },
  {
   "cell_type": "code",
   "execution_count": 143,
   "id": "e33ec68d",
   "metadata": {},
   "outputs": [
    {
     "data": {
      "text/plain": [
       "922"
      ]
     },
     "execution_count": 143,
     "metadata": {},
     "output_type": "execute_result"
    }
   ],
   "source": [
    "len(topics_miljø)"
   ]
  },
  {
   "cell_type": "code",
   "execution_count": 144,
   "id": "382ca23f",
   "metadata": {},
   "outputs": [
    {
     "data": {
      "text/plain": [
       "45"
      ]
     },
     "execution_count": 144,
     "metadata": {},
     "output_type": "execute_result"
    }
   ],
   "source": [
    "topic_miljø_høj_sand = [topics_miljø[i] for i in range(len(topics_miljø)) if topics_miljø_sand[i] >= 0.1]\n",
    "len(topic_miljø_høj_sand)"
   ]
  },
  {
   "cell_type": "code",
   "execution_count": 195,
   "id": "1b782263",
   "metadata": {},
   "outputs": [
    {
     "name": "stdout",
     "output_type": "stream",
     "text": [
      "1986\n",
      "(SF)\n"
     ]
    }
   ],
   "source": [
    "random_tal= randint(0, len(topic_miljø_høj_sand))\n",
    "random_index = topic_miljø_høj_sand[random_tal]\n",
    "print(Alle_taler_år[random_index])\n",
    "print(Alle_taler_parti[random_index])\n",
    "#print(Alle_taler[random_index])"
   ]
  },
  {
   "cell_type": "code",
   "execution_count": 147,
   "id": "966d1576",
   "metadata": {},
   "outputs": [],
   "source": [
    "Miljø_taler_år = [Alle_taler_år[i] for i in topics_miljø]\n",
    "Miljø_antal_taler_1980eren = []\n",
    "\n",
    "for år in år_1980erne:\n",
    "    Miljø_antal_taler_1980eren.append(Miljø_taler_år.count(år))\n",
    "miljø_andel = [Miljø_antal_taler_1980eren[i]/antal_taler_år[i] for i in range(10)]"
   ]
  },
  {
   "cell_type": "code",
   "execution_count": 148,
   "id": "5f267a10",
   "metadata": {},
   "outputs": [
    {
     "data": {
      "image/png": "[encoded data removed]",
      "text/plain": [
       "<Figure size 640x480 with 2 Axes>"
      ]
     },
     "metadata": {},
     "output_type": "display_data"
    }
   ],
   "source": [
    "fig, (ax1, ax2) = plt.subplots(2, 1)\n",
    "ax1.set_title(\"Andel af ft-taler der nævner EF relateret til topic 16(Miljø)\")\n",
    "ax1.plot(folketingsår, miljø_andel)\n",
    "ax1.set_ylim([0, 0.3])\n",
    "ax2.set_title(\"Antal af ft-taler der nævner EF relateret til topic 16(Miljø)\")\n",
    "ax2.bar(folketingsår, Miljø_antal_taler_1980eren)\n",
    "fig.tight_layout(pad=1.0)\n",
    "#fig.savefig(\"plots/1980_erne/Andel_af_folketingstaler_der_nævner_EF relateret_til_topic_16\")"
   ]
  },
  {
   "cell_type": "code",
   "execution_count": 149,
   "id": "02e2336e",
   "metadata": {},
   "outputs": [
    {
     "data": {
      "text/plain": [
       "6"
      ]
     },
     "execution_count": 149,
     "metadata": {},
     "output_type": "execute_result"
    }
   ],
   "source": [
    "høj_sandsynlighed_1980 = []\n",
    "for index in topic_miljø_høj_sand:\n",
    "    if Alle_taler_år[index] == \"1988\":\n",
    "        høj_sandsynlighed_1980.append(index)\n",
    "len(høj_sandsynlighed_1980)"
   ]
  },
  {
   "cell_type": "code",
   "execution_count": 150,
   "id": "66cfb2a1",
   "metadata": {},
   "outputs": [
    {
     "data": {
      "text/plain": [
       "5"
      ]
     },
     "execution_count": 150,
     "metadata": {},
     "output_type": "execute_result"
    }
   ],
   "source": [
    "randint(0, len(høj_sandsynlighed_1980))"
   ]
  },
  {
   "cell_type": "code",
   "execution_count": 151,
   "id": "0786e44d",
   "metadata": {},
   "outputs": [
    {
     "name": "stdout",
     "output_type": "stream",
     "text": [
      "\n",
      "1988\n",
      "(S)\n"
     ]
    }
   ],
   "source": [
    "random_tal= randint(0, len(høj_sandsynlighed_1980)-1)\n",
    "random_index = høj_sandsynlighed_1980[random_tal]\n",
    "print()\n",
    "print(Alle_taler_år[random_index])\n",
    "print(Alle_taler_parti[random_index])\n",
    "#print(Alle_taler[random_index])"
   ]
  },
  {
   "cell_type": "markdown",
   "id": "924227be",
   "metadata": {},
   "source": [
    "## Landbrug"
   ]
  },
  {
   "cell_type": "code",
   "execution_count": 152,
   "id": "4964f3aa",
   "metadata": {},
   "outputs": [
    {
     "data": {
      "text/plain": [
       "738"
      ]
     },
     "execution_count": 152,
     "metadata": {},
     "output_type": "execute_result"
    }
   ],
   "source": [
    "topics_landbrug = []\n",
    "topics_landbrug_sand = []\n",
    "for index in range(len(data_lemmatized)):\n",
    "    bow = gensim_dictionary.doc2bow(data_lemmatized[index])\n",
    "    eu_tale_topic_distribution = lda_model.get_document_topics(bow)\n",
    "    for topic, sand in eu_tale_topic_distribution:\n",
    "        if topic == 15:\n",
    "            topics_landbrug.append(index)\n",
    "            topics_landbrug_sand.append(sand)\n",
    "len(topics_landbrug)"
   ]
  },
  {
   "cell_type": "code",
   "execution_count": 153,
   "id": "d62607ee",
   "metadata": {},
   "outputs": [
    {
     "data": {
      "text/plain": [
       "86"
      ]
     },
     "execution_count": 153,
     "metadata": {},
     "output_type": "execute_result"
    }
   ],
   "source": [
    "topic_landbrug_høj_sand = [topics_landbrug[i] for i in range(len(topics_landbrug)) if topics_landbrug_sand[i] >= 0.1]\n",
    "len(topic_landbrug_høj_sand)"
   ]
  },
  {
   "cell_type": "code",
   "execution_count": 154,
   "id": "6c8ef176",
   "metadata": {},
   "outputs": [
    {
     "data": {
      "image/png": "[encoded data removed]",
      "text/plain": [
       "<Figure size 640x480 with 2 Axes>"
      ]
     },
     "metadata": {},
     "output_type": "display_data"
    }
   ],
   "source": [
    "landbrug_taler_år = [Alle_taler_år[i] for i in topics_landbrug]\n",
    "landbrug_antal_taler_1980eren = []\n",
    "\n",
    "for år in år_1980erne:\n",
    "    landbrug_antal_taler_1980eren.append(landbrug_taler_år.count(år))\n",
    "landbrug_andel = [landbrug_antal_taler_1980eren[i]/antal_taler_år[i] for i in range(10)]\n",
    "fig, (ax1, ax2) = plt.subplots(2, 1)\n",
    "ax1.set_title(\"Andel af ft-taler der nævner EF relateret til topic 15(Landb.)\")\n",
    "ax1.plot(folketingsår, landbrug_andel)\n",
    "ax1.set_ylim([0, 0.25])\n",
    "ax2.set_title(\"Antal af ft-taler der nævner EF relateret til topic 15(Landb.)\")\n",
    "ax2.bar(folketingsår, landbrug_antal_taler_1980eren)\n",
    "fig.tight_layout(pad=1.0)\n",
    "#fig.savefig(\"plots/1980_erne/Andel_af_folketingstaler_der_nævner_EF relateret_til_topic_15\")\n",
    "#ax.plot(år_1980erne, landbrug_andel)"
   ]
  },
  {
   "cell_type": "code",
   "execution_count": 155,
   "id": "04acf7d7",
   "metadata": {},
   "outputs": [
    {
     "data": {
      "text/plain": [
       "[78, 63, 35, 70, 47, 78, 118, 75, 102, 72]"
      ]
     },
     "execution_count": 155,
     "metadata": {},
     "output_type": "execute_result"
    }
   ],
   "source": [
    "landbrug_antal_taler_1980eren"
   ]
  },
  {
   "cell_type": "markdown",
   "id": "dc86a9e5",
   "metadata": {},
   "source": [
    "### Undersøgelse af 86/87"
   ]
  },
  {
   "cell_type": "code",
   "execution_count": 156,
   "id": "bfcf6a03",
   "metadata": {},
   "outputs": [
    {
     "name": "stdout",
     "output_type": "stream",
     "text": [
      "118\n"
     ]
    },
    {
     "data": {
      "text/plain": [
       "7"
      ]
     },
     "execution_count": 156,
     "metadata": {},
     "output_type": "execute_result"
    }
   ],
   "source": [
    "topic_landbrug_høj_sand_1986 = [i for i in topic_landbrug_høj_sand if Alle_taler_år[i] == \"1986\"]\n",
    "topic_landbrug_1986 = [i for i in topics_landbrug if Alle_taler_år[i] == \"1986\"]\n",
    "print(len(topic_landbrug_1986))\n",
    "len(topic_landbrug_høj_sand_1986)"
   ]
  },
  {
   "cell_type": "code",
   "execution_count": 157,
   "id": "029b8fc8",
   "metadata": {},
   "outputs": [
    {
     "name": "stdout",
     "output_type": "stream",
     "text": [
      "Ove Jensen (FP):\n",
      "1986\n",
      "(FP)\n",
      " Nu skal det ikke være en EF-diskussion, men alle ved, at Danmark henter adskillige milliarder kroner hvert år på grundlag af vort EF-medlemskab. Derfor ville landbruget selvfølgelig have været endnu dårligere stillet, hvis vi ikke havde været medlem af EF. Forholdet imellem dansk landbrug og de øvrige EF-landes landbrug er, at det har været en bedre forretning for de øvrige EF-lan- des landmænd at producere, end det har været her i Danmark. Det er årsagen til, at den produktionsudvidelse af landbrugsprodukter, der er sket i Fællesmarkedet, er sket i de andre lande, f.eks. i Holland, hvorimod produktionen i Danmark har været stagnerende og nu altså er på vej til at blive helt udslettet, som jeg tidligere har gjort opmærksom på.\n"
     ]
    }
   ],
   "source": [
    "random_tal= randint(0, len(topic_landbrug_høj_sand_1986)-1)\n",
    "random_index = topic_landbrug_høj_sand_1986[random_tal]\n",
    "print(Alle_taler_taler[random_index])\n",
    "print(Alle_taler_år[random_index])\n",
    "print(Alle_taler_parti[random_index])\n",
    "print(Alle_taler[random_index])"
   ]
  },
  {
   "cell_type": "markdown",
   "id": "85487ec7",
   "metadata": {},
   "source": [
    "### Landbrug og miljø:"
   ]
  },
  {
   "cell_type": "code",
   "execution_count": 158,
   "id": "35450bc2",
   "metadata": {},
   "outputs": [
    {
     "data": {
      "text/plain": [
       "52"
      ]
     },
     "execution_count": 158,
     "metadata": {},
     "output_type": "execute_result"
    }
   ],
   "source": [
    "Landbrug_og_miljø_1986 = [i for i in topic_landbrug_1986 if i in topics_miljø]\n",
    "len(Landbrug_og_miljø_1986)"
   ]
  },
  {
   "cell_type": "code",
   "execution_count": 159,
   "id": "45cc6d54",
   "metadata": {},
   "outputs": [],
   "source": [
    "Landbrug_og_miljø = [i for i in topics_landbrug if i in topics_miljø]"
   ]
  },
  {
   "cell_type": "code",
   "execution_count": 160,
   "id": "606a89b9",
   "metadata": {},
   "outputs": [
    {
     "data": {
      "text/plain": [
       "209"
      ]
     },
     "execution_count": 160,
     "metadata": {},
     "output_type": "execute_result"
    }
   ],
   "source": [
    "len(Landbrug_og_miljø)"
   ]
  },
  {
   "cell_type": "code",
   "execution_count": 161,
   "id": "3e492ce8",
   "metadata": {},
   "outputs": [
    {
     "data": {
      "text/plain": [
       "[6, 8, 2, 8, 7, 23, 52, 33, 45, 25]"
      ]
     },
     "execution_count": 161,
     "metadata": {},
     "output_type": "execute_result"
    }
   ],
   "source": [
    "Landbrug_og_miljø_år = [Alle_taler_år[i] for i in Landbrug_og_miljø]\n",
    "Landbrug_og_miljø_antal_taler_1980eren = []\n",
    "\n",
    "for år in år_1980erne:\n",
    "    Landbrug_og_miljø_antal_taler_1980eren.append(Landbrug_og_miljø_år.count(år))\n",
    "Landbrug_og_miljø_antal_taler_1980eren"
   ]
  },
  {
   "cell_type": "code",
   "execution_count": 163,
   "id": "461de6ff",
   "metadata": {},
   "outputs": [
    {
     "data": {
      "text/plain": [
       "[<matplotlib.lines.Line2D at 0x2dc0017e0>]"
      ]
     },
     "execution_count": 163,
     "metadata": {},
     "output_type": "execute_result"
    },
    {
     "data": {
      "image/png": "[encoded data removed]",
      "text/plain": [
       "<Figure size 640x480 with 2 Axes>"
      ]
     },
     "metadata": {},
     "output_type": "display_data"
    }
   ],
   "source": [
    "Landbrug_og_miljø_andel = [Landbrug_og_miljø_antal_taler_1980eren[i]/landbrug_antal_taler_1980eren[i] for i in range(10)]\n",
    "fig, (ax1, ax2) = plt.subplots(2, 1)\n",
    "ax1.set_title(\"Andel af folketingstaler der referer til topic 15 af topic 16\")\n",
    "ax1.plot(folketingsår, Landbrug_og_miljø_andel)\n",
    "ax1.set_ylim([0, 0.60])\n",
    "ax2.set_title(\"Antal af folketingstaler der referer til topic 15 og topic 16\")\n",
    "ax2.bar(folketingsår, Landbrug_og_miljø_antal_taler_1980eren)\n",
    "fig.tight_layout(pad=1.0)\n",
    "#fig.savefig(\"plots/1980_erne/Andel_af_folketingstaler_der_referer_til_topic_15_af_topic_16_med_total\")\n",
    "ax.plot(år_1980erne, landbrug_andel)"
   ]
  },
  {
   "cell_type": "code",
   "execution_count": 164,
   "id": "a57bc813",
   "metadata": {},
   "outputs": [
    {
     "data": {
      "text/plain": [
       "(0.0, 0.55)"
      ]
     },
     "execution_count": 164,
     "metadata": {},
     "output_type": "execute_result"
    },
    {
     "data": {
      "image/png": "[encoded data removed]",
      "text/plain": [
       "<Figure size 640x480 with 1 Axes>"
      ]
     },
     "metadata": {},
     "output_type": "display_data"
    }
   ],
   "source": [
    "fig, ax = plt.subplots()\n",
    "ax.set_title(\"Andel af ft-taler om tp 15(Landb.) der også omhandler tp 16(Miljø)\")\n",
    "ax.plot(folketingsår, Landbrug_og_miljø_andel)\n",
    "ax.set_ylim([0, 0.55])\n",
    "#fig.savefig(\"plots/1980_erne/Andel_af_folketingstaler_der_referer_til_topic_15_af_topic_16\")"
   ]
  },
  {
   "cell_type": "markdown",
   "id": "f2567fd3",
   "metadata": {},
   "source": [
    "### Arbejdsmiljø"
   ]
  },
  {
   "cell_type": "code",
   "execution_count": 165,
   "id": "2465ecc9",
   "metadata": {},
   "outputs": [],
   "source": [
    "topics_arbejds_miljø = []\n",
    "topics_arbejds_miljø_sand = []\n",
    "for index in range(len(data_lemmatized)):\n",
    "    bow = gensim_dictionary.doc2bow(data_lemmatized[index])\n",
    "    eu_tale_topic_distribution = lda_model.get_document_topics(bow)\n",
    "    for topic, sand in eu_tale_topic_distribution:\n",
    "        if topic == 18:\n",
    "            topics_arbejds_miljø.append(index)\n",
    "            topics_arbejds_miljø_sand.append(sand)"
   ]
  },
  {
   "cell_type": "code",
   "execution_count": 166,
   "id": "e958e2a2",
   "metadata": {},
   "outputs": [
    {
     "data": {
      "text/plain": [
       "1344"
      ]
     },
     "execution_count": 166,
     "metadata": {},
     "output_type": "execute_result"
    }
   ],
   "source": [
    "len(topics_arbejds_miljø)"
   ]
  },
  {
   "cell_type": "code",
   "execution_count": 167,
   "id": "f9758251",
   "metadata": {},
   "outputs": [],
   "source": [
    "arbejds_miljø_taler_år = [Alle_taler_år[i] for i in topics_arbejds_miljø]\n",
    "arbejds_miljø_taler_1980eren = []\n",
    "\n",
    "for år in år_1980erne:\n",
    "    arbejds_miljø_taler_1980eren.append(arbejds_miljø_taler_år.count(år))\n",
    "arbejds_miljø_andel = [arbejds_miljø_taler_1980eren[i]/antal_taler_år[i] for i in range(10)]"
   ]
  },
  {
   "cell_type": "code",
   "execution_count": 169,
   "id": "6e8054e1",
   "metadata": {},
   "outputs": [
    {
     "data": {
      "image/png": "[encoded data removed]",
      "text/plain": [
       "<Figure size 640x480 with 2 Axes>"
      ]
     },
     "metadata": {},
     "output_type": "display_data"
    }
   ],
   "source": [
    "fig, (ax1, ax2) = plt.subplots(2, 1)\n",
    "ax1.set_title(\"Andel af ft-taler der nævner EF relateret til topic 18(Arbejdsmiljø)\")\n",
    "ax1.plot(folketingsår, arbejds_miljø_andel)\n",
    "ax1.set_ylim([0, 0.4])\n",
    "ax2.set_title(\"Antal af ft-taler der nævner EF relateret til topic 18(Arbejdsmiljø)\")\n",
    "ax2.bar(folketingsår, arbejds_miljø_taler_1980eren)\n",
    "fig.tight_layout(pad=1.0)\n",
    "#fig.savefig(\"plots/1980_erne/Andel_af_folketingstaler_der_nævner_EF relateret_til_topic_18\")"
   ]
  },
  {
   "cell_type": "markdown",
   "id": "2fd3ad79",
   "metadata": {},
   "source": [
    "### Undersøgelse af stof i arbejdsmiljø"
   ]
  },
  {
   "cell_type": "code",
   "execution_count": 170,
   "id": "0a68acf2",
   "metadata": {},
   "outputs": [
    {
     "data": {
      "text/plain": [
       "562"
      ]
     },
     "execution_count": 170,
     "metadata": {},
     "output_type": "execute_result"
    }
   ],
   "source": [
    "topics_arbejds_miljø_sand.index(max(topics_arbejds_miljø_sand))"
   ]
  },
  {
   "cell_type": "code",
   "execution_count": 171,
   "id": "67c1fad1",
   "metadata": {},
   "outputs": [],
   "source": [
    "topics_arbejds_miljø_sand_til_sort = [sand for sand in topics_arbejds_miljø_sand]"
   ]
  },
  {
   "cell_type": "code",
   "execution_count": 172,
   "id": "c29c036a",
   "metadata": {},
   "outputs": [],
   "source": [
    "topics_arbejds_miljø_sand_til_sort.sort(reverse = True)"
   ]
  },
  {
   "cell_type": "code",
   "execution_count": 173,
   "id": "e55a6d2e",
   "metadata": {},
   "outputs": [
    {
     "data": {
      "text/plain": [
       "86"
      ]
     },
     "execution_count": 173,
     "metadata": {},
     "output_type": "execute_result"
    }
   ],
   "source": [
    "topics_arbejds_miljø_sand.index(topics_arbejds_miljø_sand_til_sort[4])"
   ]
  },
  {
   "cell_type": "code",
   "execution_count": 174,
   "id": "4581b2ac",
   "metadata": {},
   "outputs": [
    {
     "data": {
      "text/plain": [
       "2825"
      ]
     },
     "execution_count": 174,
     "metadata": {},
     "output_type": "execute_result"
    }
   ],
   "source": [
    "topics_arbejds_miljø[476]"
   ]
  },
  {
   "cell_type": "code",
   "execution_count": 176,
   "id": "24403891",
   "metadata": {},
   "outputs": [
    {
     "name": "stdout",
     "output_type": "stream",
     "text": [
      "Af Dorte Bennedsen (S) m.fl.\n",
      "1987\n"
     ]
    }
   ],
   "source": [
    "print(Alle_taler_taler[4385])\n",
    "print(Alle_taler_år[4385])\n",
    "#Alle_taler[4385]"
   ]
  },
  {
   "cell_type": "markdown",
   "id": "a3983856",
   "metadata": {},
   "source": [
    "## Afgift"
   ]
  },
  {
   "cell_type": "code",
   "execution_count": 177,
   "id": "95f5ebd5",
   "metadata": {},
   "outputs": [
    {
     "data": {
      "text/plain": [
       "912"
      ]
     },
     "execution_count": 177,
     "metadata": {},
     "output_type": "execute_result"
    }
   ],
   "source": [
    "topics_afgift = []\n",
    "topics_afgift_sand = []\n",
    "for index in range(len(data_lemmatized)):\n",
    "    bow = gensim_dictionary.doc2bow(data_lemmatized[index])\n",
    "    eu_tale_topic_distribution = lda_model.get_document_topics(bow)\n",
    "    for topic, sand in eu_tale_topic_distribution:\n",
    "        if topic == 9:\n",
    "            topics_afgift.append(index)\n",
    "            topics_afgift_sand.append(sand)\n",
    "len(topics_afgift)"
   ]
  },
  {
   "cell_type": "code",
   "execution_count": 178,
   "id": "f229517a",
   "metadata": {},
   "outputs": [],
   "source": [
    "afgift_høj_sand = [topics_afgift[i] for i in range(len(topics_afgift)) if topics_afgift_sand[i] >= 0.05]"
   ]
  },
  {
   "cell_type": "code",
   "execution_count": 179,
   "id": "2ea2e863",
   "metadata": {},
   "outputs": [
    {
     "data": {
      "text/plain": [
       "151"
      ]
     },
     "execution_count": 179,
     "metadata": {},
     "output_type": "execute_result"
    }
   ],
   "source": [
    "len(afgift_høj_sand)"
   ]
  },
  {
   "cell_type": "code",
   "execution_count": 180,
   "id": "6d498cd1",
   "metadata": {},
   "outputs": [
    {
     "data": {
      "text/plain": [
       "[<matplotlib.lines.Line2D at 0x31f5b8e80>]"
      ]
     },
     "execution_count": 180,
     "metadata": {},
     "output_type": "execute_result"
    },
    {
     "data": {
      "image/png": "[encoded data removed]",
      "text/plain": [
       "<Figure size 640x480 with 1 Axes>"
      ]
     },
     "metadata": {},
     "output_type": "display_data"
    }
   ],
   "source": [
    "topics_afgift_år = [Alle_taler_år[i] for i in topics_afgift]\n",
    "afgift_antal_taler_1980eren = []\n",
    "\n",
    "for år in år_1980erne:\n",
    "    afgift_antal_taler_1980eren.append(topics_afgift_år.count(år))\n",
    "afgift_andel = [afgift_antal_taler_1980eren[i]/antal_taler_år[i] for i in range(10)]\n",
    "fig, ax = plt.subplots()\n",
    "ax.plot(år_1980erne, afgift_andel)"
   ]
  },
  {
   "cell_type": "code",
   "execution_count": 182,
   "id": "571ec5ad",
   "metadata": {},
   "outputs": [
    {
     "data": {
      "image/png": "[encoded data removed]",
      "text/plain": [
       "<Figure size 640x480 with 2 Axes>"
      ]
     },
     "metadata": {},
     "output_type": "display_data"
    }
   ],
   "source": [
    "fig, (ax1, ax2) = plt.subplots(2, 1)\n",
    "ax1.set_title(\"Andel af ft-taler der nævner EF relateret til topic 9(Afgift)\")\n",
    "ax1.plot(folketingsår, afgift_andel)\n",
    "ax1.set_ylim([0, 0.25])\n",
    "ax2.set_title(\"Antal af ft-taler der nævner EF relateret til topic 9(Afgift)\")\n",
    "ax2.bar(folketingsår, afgift_antal_taler_1980eren)\n",
    "fig.tight_layout(pad=1.0)\n",
    "#fig.savefig(\"plots/1980_erne/Andel_af_folketingstaler_der_nævner_EF relateret_til_topic_9\")"
   ]
  },
  {
   "cell_type": "markdown",
   "id": "fbc5622e",
   "metadata": {},
   "source": [
    "### Topic 12 om ef:"
   ]
  },
  {
   "cell_type": "code",
   "execution_count": 183,
   "id": "15d82449",
   "metadata": {},
   "outputs": [
    {
     "data": {
      "text/plain": [
       "912"
      ]
     },
     "execution_count": 183,
     "metadata": {},
     "output_type": "execute_result"
    }
   ],
   "source": [
    "topics_ef_12 = []\n",
    "topics_ef_12_sand = []\n",
    "for index in range(len(data_lemmatized)):\n",
    "    bow = gensim_dictionary.doc2bow(data_lemmatized[index])\n",
    "    eu_tale_topic_distribution = lda_model.get_document_topics(bow)\n",
    "    for topic, sand in eu_tale_topic_distribution:\n",
    "        if topic == 12:\n",
    "            topics_ef_12.append(index)\n",
    "            topics_ef_12_sand.append(sand)\n",
    "len(topics_afgift)"
   ]
  },
  {
   "cell_type": "code",
   "execution_count": 184,
   "id": "c3564039",
   "metadata": {},
   "outputs": [],
   "source": [
    "topics_ef_12_år = [Alle_taler_år[i] for i in topics_ef_12]\n",
    "ef_12_antal_taler_1980eren = []\n",
    "\n",
    "for år in år_1980erne:\n",
    "    ef_12_antal_taler_1980eren.append(topics_ef_12_år.count(år))\n",
    "ef_12_andel = [ef_12_antal_taler_1980eren[i]/antal_taler_år[i] for i in range(10)]"
   ]
  },
  {
   "cell_type": "code",
   "execution_count": 185,
   "id": "f8f6e176",
   "metadata": {},
   "outputs": [
    {
     "data": {
      "image/png": "[encoded data removed]",
      "text/plain": [
       "<Figure size 640x480 with 2 Axes>"
      ]
     },
     "metadata": {},
     "output_type": "display_data"
    }
   ],
   "source": [
    "fig, (ax1, ax2) = plt.subplots(2, 1)\n",
    "ax1.set_title(\"Andel af ft-taler der nævner EF relateret til topic 12(EF)\")\n",
    "ax1.plot(folketingsår, ef_12_andel)\n",
    "ax1.set_ylim([0, 0.55])\n",
    "ax2.set_title(\"Antal af ft-taler der nævner EF relateret til topic 12(EF)\")\n",
    "ax2.bar(folketingsår, ef_12_antal_taler_1980eren)\n",
    "fig.tight_layout(pad=1.0)\n",
    "#fig.savefig(\"plots/1980_erne/Andel_af_folketingstaler_der_nævner_EF relateret_til_topic_12\")"
   ]
  },
  {
   "cell_type": "code",
   "execution_count": 186,
   "id": "4e5d6f34",
   "metadata": {},
   "outputs": [],
   "source": [
    "#undersøgelse af EF_pakken"
   ]
  },
  {
   "cell_type": "code",
   "execution_count": 187,
   "id": "9e759244",
   "metadata": {},
   "outputs": [
    {
     "data": {
      "text/plain": [
       "234"
      ]
     },
     "execution_count": 187,
     "metadata": {},
     "output_type": "execute_result"
    }
   ],
   "source": [
    "ef_pakken = []\n",
    "for tale in data_lemmatized:\n",
    "    if \"ef-pakken\" in tale:\n",
    "        ef_pakken.append(tale)\n",
    "len(ef_pakken)"
   ]
  },
  {
   "cell_type": "code",
   "execution_count": 188,
   "id": "6b20d3ad",
   "metadata": {},
   "outputs": [
    {
     "data": {
      "text/plain": [
       "213"
      ]
     },
     "execution_count": 188,
     "metadata": {},
     "output_type": "execute_result"
    }
   ],
   "source": [
    "antal_ef_pakken_topic_12 = 0\n",
    "for tale in ef_pakken:\n",
    "    bow = gensim_dictionary.doc2bow(tale)\n",
    "    eu_tale_topic_distribution = lda_model.get_document_topics(bow)\n",
    "    for topic, sand in eu_tale_topic_distribution:\n",
    "        if topic == 12:\n",
    "            antal_ef_pakken_topic_12 += 1\n",
    "antal_ef_pakken_topic_12"
   ]
  },
  {
   "cell_type": "markdown",
   "id": "05530cc2",
   "metadata": {},
   "source": [
    "### Mangler: Udvidelse"
   ]
  },
  {
   "cell_type": "code",
   "execution_count": 189,
   "id": "5e3c8031",
   "metadata": {},
   "outputs": [],
   "source": [
    "Lande = [\"spanien\", \"portugal\"]\n",
    "taler_spanien_portugal = []\n",
    "for index in range(len(Alle_taler)):\n",
    "    tale = Alle_taler[index]\n",
    "    for land in Lande:        \n",
    "        if len(re.findall(land, tale.lower())) > 0:\n",
    "            taler_spanien_portugal.append(index)\n",
    "            break\n",
    "        "
   ]
  },
  {
   "cell_type": "code",
   "execution_count": 190,
   "id": "7a59609b",
   "metadata": {},
   "outputs": [
    {
     "data": {
      "text/plain": [
       "209"
      ]
     },
     "execution_count": 190,
     "metadata": {},
     "output_type": "execute_result"
    }
   ],
   "source": [
    "len(taler_spanien_portugal)"
   ]
  },
  {
   "cell_type": "code",
   "execution_count": 191,
   "id": "031fce0c",
   "metadata": {},
   "outputs": [],
   "source": [
    "taler_spanien_portugal_år = [Alle_taler_år[i] for i in taler_spanien_portugal]"
   ]
  },
  {
   "cell_type": "code",
   "execution_count": 192,
   "id": "f3573bf7",
   "metadata": {},
   "outputs": [],
   "source": [
    "for år in eu_taler_80erne:\n",
    "    taler_spanien_portugal_år.count(år)"
   ]
  },
  {
   "cell_type": "code",
   "execution_count": 193,
   "id": "daf7a53b",
   "metadata": {},
   "outputs": [],
   "source": [
    "Antal_per_år = [taler_spanien_portugal_år.count(år) for år in eu_taler_80erne]"
   ]
  },
  {
   "cell_type": "code",
   "execution_count": 194,
   "id": "1725089c",
   "metadata": {},
   "outputs": [
    {
     "data": {
      "text/plain": [
       "[10, 24, 3, 21, 17, 46, 15, 26, 29, 18]"
      ]
     },
     "execution_count": 194,
     "metadata": {},
     "output_type": "execute_result"
    }
   ],
   "source": [
    "Antal_per_år"
   ]
  }
 ],
 "metadata": {
  "kernelspec": {
   "display_name": "Python 3 (ipykernel)",
   "language": "python",
   "name": "python3"
  },
  "language_info": {
   "codemirror_mode": {
    "name": "ipython",
    "version": 3
   },
   "file_extension": ".py",
   "mimetype": "text/x-python",
   "name": "python",
   "nbconvert_exporter": "python",
   "pygments_lexer": "ipython3",
   "version": "3.10.2"
  }
 },
 "nbformat": 4,
 "nbformat_minor": 5
}
