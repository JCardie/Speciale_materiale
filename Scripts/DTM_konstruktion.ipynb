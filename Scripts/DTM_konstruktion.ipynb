{
 "cells": [
  {
   "cell_type": "markdown",
   "metadata": {},
   "source": [
    "## DTM-model"
   ]
  },
  {
   "cell_type": "markdown",
   "metadata": {},
   "source": [
    "Dette script benytter sig af DTM-wrapperen fra gensim 3.8.3"
   ]
  },
  {
   "cell_type": "code",
   "execution_count": 1,
   "metadata": {},
   "outputs": [
    {
     "name": "stdout",
     "output_type": "stream",
     "text": [
      "Collecting gensim==3.8.3\n",
      "  Downloading gensim-3.8.3-cp37-cp37m-manylinux1_x86_64.whl (24.2 MB)\n",
      "\u001b[K     |████████████████████████████████| 24.2 MB 4.8 MB/s eta 0:00:01\n",
      "\u001b[?25hRequirement already satisfied: numpy>=1.11.3 in /opt/conda/lib/python3.7/site-packages (from gensim==3.8.3) (1.19.1)\n",
      "Requirement already satisfied: six>=1.5.0 in /opt/conda/lib/python3.7/site-packages (from gensim==3.8.3) (1.15.0)\n",
      "Requirement already satisfied: scipy>=0.18.1 in /opt/conda/lib/python3.7/site-packages (from gensim==3.8.3) (1.5.2)\n",
      "Collecting smart-open>=1.8.1\n",
      "  Downloading smart_open-6.3.0-py3-none-any.whl (56 kB)\n",
      "\u001b[K     |████████████████████████████████| 56 kB 1.7 MB/s  eta 0:00:01\n",
      "\u001b[?25hInstalling collected packages: smart-open, gensim\n",
      "Successfully installed gensim-3.8.3 smart-open-6.3.0\n",
      "Note: you may need to restart the kernel to use updated packages.\n"
     ]
    }
   ],
   "source": [
    "pip install gensim==3.8.3"
   ]
  },
  {
   "cell_type": "code",
   "execution_count": 2,
   "metadata": {},
   "outputs": [],
   "source": [
    "import gensim\n",
    "from gensim.models.wrappers import DtmModel\n",
    "import pandas as pd\n",
    "import os\n",
    "import re\n",
    "from random import shuffle\n",
    "import gensim.corpora as corpora\n",
    "from time import time"
   ]
  },
  {
   "cell_type": "markdown",
   "metadata": {},
   "source": [
    "Nu hentes David Bleis scripts skrevet i C"
   ]
  },
  {
   "cell_type": "code",
   "execution_count": 2,
   "metadata": {},
   "outputs": [
    {
     "data": {
      "text/plain": [
       "<git.repo.base.Repo '/work/JonasKarlskovCardie#5844/DTM_blei/DTM_2/.git'>"
      ]
     },
     "execution_count": 2,
     "metadata": {},
     "output_type": "execute_result"
    }
   ],
   "source": [
    "from git import Repo\n",
    "Repo.clone_from(\"https://github.com/magsilva/dtm.git\", \"DTM_2\")"
   ]
  },
  {
   "cell_type": "code",
   "execution_count": 3,
   "metadata": {},
   "outputs": [],
   "source": [
    "path_to_dtm_binary = \"DTM_2/bin/dtm-linux64\""
   ]
  },
  {
   "cell_type": "markdown",
   "metadata": {},
   "source": [
    "Jeg henter nu data:"
   ]
  },
  {
   "cell_type": "code",
   "execution_count": 4,
   "metadata": {},
   "outputs": [],
   "source": [
    "df_80 = pd.read_csv(\"../Renset_data/80_erne_DTM_05_02_23.csv\")\n",
    "df_90 = pd.read_csv(\"../Renset_data/90_erne_DTM_05_02_23.csv\")\n",
    "df_00 = pd.read_csv(\"../Renset_data/00_erne_DTM_05_02_23.csv\")"
   ]
  },
  {
   "cell_type": "code",
   "execution_count": 5,
   "metadata": {},
   "outputs": [],
   "source": [
    "data_80 = df_80[\"Tekster\"]\n",
    "data_90 = df_90[\"Tekster\"]\n",
    "data_00 = df_00[\"Tekster\"]"
   ]
  },
  {
   "cell_type": "code",
   "execution_count": 6,
   "metadata": {},
   "outputs": [],
   "source": [
    "#funktion til at rense data:\n",
    "def tekst_renser(tekst):\n",
    "    tekst_split = re.split(\"\\', \\'\", tekst)\n",
    "    tekst_split[0] = tekst_split[0][2:]\n",
    "    tekst_split[-1] = tekst_split[-1][:-2]\n",
    "    return tekst_split"
   ]
  },
  {
   "cell_type": "code",
   "execution_count": 7,
   "metadata": {},
   "outputs": [],
   "source": [
    "rensede_tekster_80 = []\n",
    "for tekst in data_80:\n",
    "    rensede_tekster_80.append(tekst_renser(tekst))\n",
    "rensede_tekster_90 = []\n",
    "for tekst in data_90:\n",
    "    rensede_tekster_90.append(tekst_renser(tekst))\n",
    "rensede_tekster_00 = []\n",
    "for tekst in data_00:\n",
    "    rensede_tekster_00.append(tekst_renser(tekst))"
   ]
  },
  {
   "cell_type": "code",
   "execution_count": 8,
   "metadata": {},
   "outputs": [],
   "source": [
    "tekst_80 = [tekst for tekst in rensede_tekster_80]\n",
    "tekst_90 = [tekst for tekst in rensede_tekster_90]\n",
    "tekst_00 = [tekst for tekst in rensede_tekster_00]"
   ]
  },
  {
   "cell_type": "code",
   "execution_count": 9,
   "metadata": {},
   "outputs": [],
   "source": [
    "shuffle(tekst_80)\n",
    "shuffle(tekst_90)\n",
    "shuffle(tekst_00)"
   ]
  },
  {
   "cell_type": "code",
   "execution_count": 9,
   "metadata": {},
   "outputs": [],
   "source": [
    "All_texts = tekst_80 + tekst_90 + tekst_00\n",
    "\n",
    "gensim_dictionary = corpora.Dictionary(All_texts)\n",
    "\n",
    "gensim_corpus = [gensim_dictionary.doc2bow(text) for text in All_texts]"
   ]
  },
  {
   "cell_type": "code",
   "execution_count": 10,
   "metadata": {},
   "outputs": [],
   "source": [
    "gensim_dictionary.save(\"../Dictionaries/uden_shuffle_2\")"
   ]
  },
  {
   "cell_type": "code",
   "execution_count": 11,
   "metadata": {},
   "outputs": [
    {
     "name": "stdout",
     "output_type": "stream",
     "text": [
      "12375.855376958847\n"
     ]
    }
   ],
   "source": [
    "start = time()\n",
    "model = DtmModel(path_to_dtm_binary, corpus=gensim_corpus, id2word=gensim_dictionary, num_topics=16,\n",
    "time_slices=[len(tekst_80), len(tekst_90), len(tekst_00)])\n",
    "end = time()\n",
    "print(end - start)"
   ]
  },
  {
   "cell_type": "code",
   "execution_count": 12,
   "metadata": {},
   "outputs": [],
   "source": [
    "model.save(\"../Models/uden_shuffle_2_16_topics\")"
   ]
  },
  {
   "cell_type": "code",
   "execution_count": 13,
   "metadata": {},
   "outputs": [
    {
     "name": "stdout",
     "output_type": "stream",
     "text": [
      "13946.673011302948\n"
     ]
    }
   ],
   "source": [
    "start = time()\n",
    "model = DtmModel(path_to_dtm_binary, corpus=gensim_corpus, id2word=gensim_dictionary, num_topics=18,\n",
    "time_slices=[len(tekst_80), len(tekst_90), len(tekst_00)])\n",
    "end = time()\n",
    "print(end - start)"
   ]
  },
  {
   "cell_type": "code",
   "execution_count": 14,
   "metadata": {},
   "outputs": [],
   "source": [
    "model.save(\"../Models/uden_shuffle_2_18_topics\")"
   ]
  },
  {
   "cell_type": "code",
   "execution_count": 15,
   "metadata": {},
   "outputs": [
    {
     "name": "stdout",
     "output_type": "stream",
     "text": [
      "15398.1608543396\n"
     ]
    }
   ],
   "source": [
    "start = time()\n",
    "model = DtmModel(path_to_dtm_binary, corpus=gensim_corpus, id2word=gensim_dictionary, num_topics=20,\n",
    "time_slices=[len(tekst_80), len(tekst_90), len(tekst_00)])\n",
    "end = time()\n",
    "print(end - start)"
   ]
  },
  {
   "cell_type": "code",
   "execution_count": 16,
   "metadata": {},
   "outputs": [],
   "source": [
    "model.save(\"../Models/uden_shuffle_2_20_topics\")"
   ]
  },
  {
   "cell_type": "code",
   "execution_count": 17,
   "metadata": {},
   "outputs": [
    {
     "name": "stdout",
     "output_type": "stream",
     "text": [
      "16419.384210824966\n"
     ]
    }
   ],
   "source": [
    "start = time()\n",
    "model = DtmModel(path_to_dtm_binary, corpus=gensim_corpus, id2word=gensim_dictionary, num_topics=22,\n",
    "time_slices=[len(tekst_80), len(tekst_90), len(tekst_00)])\n",
    "end = time()\n",
    "print(end - start)"
   ]
  },
  {
   "cell_type": "code",
   "execution_count": 18,
   "metadata": {},
   "outputs": [],
   "source": [
    "model.save(\"../Models/uden_shuffle_2_22_topics\")"
   ]
  },
  {
   "cell_type": "code",
   "execution_count": 19,
   "metadata": {},
   "outputs": [
    {
     "name": "stdout",
     "output_type": "stream",
     "text": [
      "17692.36598300934\n"
     ]
    }
   ],
   "source": [
    "start = time()\n",
    "model = DtmModel(path_to_dtm_binary, corpus=gensim_corpus, id2word=gensim_dictionary, num_topics=24,\n",
    "time_slices=[len(tekst_80), len(tekst_90), len(tekst_00)])\n",
    "end = time()\n",
    "print(end - start)"
   ]
  },
  {
   "cell_type": "code",
   "execution_count": 20,
   "metadata": {},
   "outputs": [],
   "source": [
    "model.save(\"../Models/uden_shuffle_2_24_topics\")"
   ]
  },
  {
   "cell_type": "code",
   "execution_count": 10,
   "metadata": {},
   "outputs": [
    {
     "name": "stdout",
     "output_type": "stream",
     "text": [
      "16096.834568977356\n"
     ]
    }
   ],
   "source": [
    "start = time()\n",
    "model = DtmModel(path_to_dtm_binary, corpus=gensim_corpus, id2word=gensim_dictionary, num_topics=26,\n",
    "time_slices=[len(tekst_80), len(tekst_90), len(tekst_00)])\n",
    "end = time()\n",
    "print(end - start)"
   ]
  },
  {
   "cell_type": "code",
   "execution_count": 11,
   "metadata": {},
   "outputs": [],
   "source": [
    "model.save(\"../Models/uden_shuffle_2_26_topics\")"
   ]
  },
  {
   "cell_type": "code",
   "execution_count": 12,
   "metadata": {},
   "outputs": [
    {
     "name": "stdout",
     "output_type": "stream",
     "text": [
      "17012.352450609207\n"
     ]
    }
   ],
   "source": [
    "start = time()\n",
    "model = DtmModel(path_to_dtm_binary, corpus=gensim_corpus, id2word=gensim_dictionary, num_topics=28,\n",
    "time_slices=[len(tekst_80), len(tekst_90), len(tekst_00)])\n",
    "end = time()\n",
    "print(end - start)"
   ]
  },
  {
   "cell_type": "code",
   "execution_count": 13,
   "metadata": {},
   "outputs": [],
   "source": [
    "model.save(\"../Models/uden_shuffle_2_28_topics\")"
   ]
  }
 ],
 "metadata": {
  "kernelspec": {
   "display_name": "Python 3 (ipykernel)",
   "language": "python",
   "name": "python3"
  },
  "language_info": {
   "codemirror_mode": {
    "name": "ipython",
    "version": 3
   },
   "file_extension": ".py",
   "mimetype": "text/x-python",
   "name": "python",
   "nbconvert_exporter": "python",
   "pygments_lexer": "ipython3",
   "version": "3.10.2"
  }
 },
 "nbformat": 4,
 "nbformat_minor": 4
}
